{
 "cells": [
  {
   "cell_type": "markdown",
   "metadata": {},
   "source": [
    "# Random Forests\n",
    "\n",
    "In this section, we will explore Random Forests, an ensemble learning method that builds upon decision trees to enhance performance and reduce overfitting. We'll cover the fundamental concepts, advantages, and implementation of Random Forests in Python.\n",
    "\n",
    "---\n",
    "\n",
    "## Table of Contents\n",
    "\n",
    "1. [What is a Random Forest?](#1-what-is-a-random-forest)\n",
    "2. [How Random Forests Work](#2-how-random-forests-work)\n",
    "3. [Advantages and Disadvantages](#3-advantages-and-disadvantages)\n",
    "4. [Use Cases of Random Forests](#4-use-cases-of-random-forests)\n",
    "5. [Implementing a Random Forest in Python](#5-implementing-a-random-forest-in-python)\n",
    "\n",
    "---"
   ]
  },
  {
   "cell_type": "markdown",
   "metadata": {},
   "source": [
    "## 1. What is a Random Forest?\n",
    "\n",
    "A Random Forest is an ensemble learning algorithm that builds multiple decision trees and merges them together to get a more accurate and stable prediction. It is used for both classification and regression tasks.\n",
    "\n",
    "### Key Points:\n",
    "- **Ensemble Learning:** Combines multiple decision trees to improve accuracy.\n",
    "- **Random Subsets:** Each tree is trained on a random subset of the data and features.\n",
    "- **Voting Mechanism:** For classification, it aggregates the majority vote from individual trees.\n",
    "- **Averaging:** For regression, it averages the outputs of individual trees."
   ]
  },
  {
   "cell_type": "markdown",
   "metadata": {},
   "source": [
    "## 2. How Random Forests Work\n",
    "Random Forests operate by constructing multiple decision trees from randomly selected subsets of the training data. It reduces overfitting by introducing randomness in both the data and features used to train each tree."
   ]
  },
  {
   "cell_type": "markdown",
   "metadata": {},
   "source": [
    "### Steps in Random Forest Algorithm:\n",
    "1. Draw multiple bootstrap samples from the training data.\n",
    "2. For each bootstrap sample, grow a decision tree using a random subset of features.\n",
    "3. Aggregate the predictions from all the trees to make the final prediction:\n",
    "   - **For Classification:** Use majority voting.\n",
    "   - **For Regression:** Use the mean or average of the predictions.\n",
    "4. Repeat this process to obtain an ensemble of decision trees.\n"
   ]
  },
  {
   "cell_type": "markdown",
   "metadata": {},
   "source": [
    "## 3. Advantages and Disadvantages\n",
    "### Advantages:\n",
    "- **Reduces Overfitting:** Random Forests minimize overfitting compared to a single decision tree.\n",
    "- **Handles Missing Values:** Can handle missing data without needing explicit imputation.\n",
    "- **Feature Importance:** Provides a measure of feature importance, which is useful for feature selection.\n",
    "- **Robust to Outliers:** Less sensitive to outliers in the data.\n",
    "\n",
    "### Disadvantages:\n",
    "- **Less Interpretability:** While individual decision trees are easy to interpret, a forest of trees can be complex to understand.\n",
    "- **Slower Prediction Time:** Requires more computation than a single decision tree, which may be slow for large datasets.\n"
   ]
  },
  {
   "cell_type": "markdown",
   "metadata": {},
   "source": [
    "## 4. Use Cases of Random Forests\n",
    "### Use Cases:\n",
    "- **Credit Scoring:** Used by banks and financial institutions to assess credit risk.\n",
    "- **Fraud Detection:** Helps in detecting fraudulent transactions in financial systems.\n",
    "- **Customer Churn Prediction:** Predicts the likelihood of customers leaving a service.\n",
    "- **Healthcare:** Assists in disease diagnosis by analyzing medical data.\n"
   ]
  },
  {
   "cell_type": "markdown",
   "metadata": {},
   "source": [
    "## 5. Implementing a Random Forest in Python"
   ]
  },
  {
   "cell_type": "code",
   "execution_count": 1,
   "metadata": {},
   "outputs": [],
   "source": [
    "from sklearn.ensemble import RandomForestClassifier\n",
    "from sklearn.datasets import load_breast_cancer\n",
    "from sklearn.metrics import confusion_matrix,accuracy_score\n",
    "from sklearn.model_selection import train_test_split"
   ]
  },
  {
   "cell_type": "code",
   "execution_count": 2,
   "metadata": {},
   "outputs": [
    {
     "name": "stdout",
     "output_type": "stream",
     "text": [
      "Accuracy: 0.9707602339181286\n"
     ]
    }
   ],
   "source": [
    "data = load_breast_cancer()\n",
    "X = data.data\n",
    "y = data.target \n",
    "\n",
    "X_train,X_test,y_train,y_test = train_test_split(X,y,test_size=.3,random_state=42)\n",
    "\n",
    "model = RandomForestClassifier()\n",
    "model.fit(X_train,y_train)\n",
    "y_pred = model.predict(X_test)\n",
    "\n",
    "acc = accuracy_score(y_test,y_pred)\n",
    "print(\"Accuracy:\",acc)"
   ]
  },
  {
   "cell_type": "code",
   "execution_count": 3,
   "metadata": {},
   "outputs": [
    {
     "data": {
      "image/png": "[encoded data removed]",
      "text/plain": [
       "<Figure size 640x480 with 2 Axes>"
      ]
     },
     "metadata": {},
     "output_type": "display_data"
    }
   ],
   "source": [
    "import seaborn as sns\n",
    "import matplotlib.pyplot as plt\n",
    "\n",
    "sns.heatmap(confusion_matrix(y_test,y_pred,normalize=\"true\"),cmap=\"coolwarm\",annot=True)\n",
    "plt.show()"
   ]
  }
 ],
 "metadata": {
  "kernelspec": {
   "display_name": "Python 3",
   "language": "python",
   "name": "python3"
  },
  "language_info": {
   "codemirror_mode": {
    "name": "ipython",
    "version": 3
   },
   "file_extension": ".py",
   "mimetype": "text/x-python",
   "name": "python",
   "nbconvert_exporter": "python",
   "pygments_lexer": "ipython3",
   "version": "3.8.0"
  }
 },
 "nbformat": 4,
 "nbformat_minor": 2
}
