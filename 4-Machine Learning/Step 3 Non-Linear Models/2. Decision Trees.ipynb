{
 "cells": [
  {
   "cell_type": "markdown",
   "metadata": {},
   "source": [
    "# Decision Trees\n",
    "\n",
    "In this section, we will explore decision trees, a popular non-linear algorithm used for both classification and regression tasks. We'll cover the basic structure, advantages, disadvantages, and practical usage of decision trees.\n",
    "\n",
    "---\n",
    "\n",
    "## Table of Contents\n",
    "\n",
    "1. [What is a Decision Tree?](#1-what-is-a-decision-tree)\n",
    "2. [How Decision Trees Work](#2-how-decision-trees-work)\n",
    "3. [Advantages and Disadvantages](#3-advantages-and-disadvantages)\n",
    "4. [Types of Decision Trees](#4-types-of-decision-trees)\n",
    "5. [Use Cases of Decision Trees](#5-use-cases-of-decision-trees)\n",
    "6. [Implementing a Decision Tree in Python](#6-implementing-a-decision-tree-in-python)\n",
    "\n",
    "---"
   ]
  },
  {
   "cell_type": "markdown",
   "metadata": {},
   "source": [
    "## 1. What is a Decision Tree?\n",
    "\n",
    "A decision tree is a flowchart-like model used to make predictions. It splits the data into subsets based on the feature values and forms a tree structure where each node represents a feature, each branch represents a decision rule, and each leaf represents an outcome.\n",
    "\n",
    "### Key Points:\n",
    "- **Non-parametric:** Does not assume a particular distribution of the data.\n",
    "- **Tree Structure:** Composed of nodes, branches, and leaves.\n",
    "- **Recursive Splitting:** Splits data into subsets by selecting the feature that minimizes impurity."
   ]
  },
  {
   "cell_type": "markdown",
   "metadata": {},
   "source": [
    "## 2. How Decision Trees Work\n",
    "Decision trees work by splitting the data into smaller subsets based on the most important feature (using metrics like Gini impurity or entropy). The process is repeated until the data in each node is pure, or a stopping criterion is reached."
   ]
  },
  {
   "cell_type": "markdown",
   "metadata": {},
   "source": [
    "### Decision-making process:\n",
    "1. Select the best feature to split on.\n",
    "2. Split the dataset based on feature values.\n",
    "3. Repeat the process recursively for each branch.\n",
    "4. Stop when all data points are classified or a predefined depth is reached.\n"
   ]
  },
  {
   "cell_type": "markdown",
   "metadata": {},
   "source": [
    "## 3. Advantages and Disadvantages\n",
    "### Advantages:\n",
    "- **Easy to Interpret:** Simple to visualize and interpret.\n",
    "- **Handles Non-linear Relationships:** Able to model complex patterns in data.\n",
    "- **Little Data Preprocessing Required:** No need for normalization or scaling of data.\n",
    "- **Works for Both Classification and Regression.**\n",
    "\n",
    "### Disadvantages:\n",
    "- **Overfitting:** Can easily overfit, especially with deep trees.\n",
    "- **Unstable:** Small changes in data can lead to entirely different trees.\n",
    "- **Bias Towards Dominant Classes:** If not pruned, can be biased by dominant features or class imbalances.\n"
   ]
  },
  {
   "cell_type": "markdown",
   "metadata": {},
   "source": [
    "## 4. Types of Decision Trees\n",
    "### Types:\n",
    "- **Classification Trees:** Used for predicting categories.\n",
    "- **Regression Trees:** Used for predicting continuous values."
   ]
  },
  {
   "cell_type": "markdown",
   "metadata": {},
   "source": [
    "## 5. Use Cases of Decision Trees\n",
    "### Use Cases:\n",
    "- **Credit Risk Assessment:** Determine whether a person is likely to default on a loan.\n",
    "- **Medical Diagnosis:** Help in diagnosing diseases based on symptoms.\n",
    "- **Customer Segmentation:** Categorize customers based on buying behavior.\n",
    "- **Fraud Detection:** Classify transactions as fraudulent or non-fraudulent."
   ]
  },
  {
   "cell_type": "markdown",
   "metadata": {},
   "source": [
    "## 6. Implementing a Decision Tree in Python"
   ]
  },
  {
   "cell_type": "code",
   "execution_count": 8,
   "metadata": {},
   "outputs": [],
   "source": [
    "from sklearn.datasets import load_iris\n",
    "from sklearn.model_selection import train_test_split\n",
    "from sklearn.tree import DecisionTreeClassifier\n",
    "from sklearn.metrics import accuracy_score,confusion_matrix"
   ]
  },
  {
   "cell_type": "code",
   "execution_count": 4,
   "metadata": {},
   "outputs": [
    {
     "name": "stdout",
     "output_type": "stream",
     "text": [
      "Accuracy: 1.0\n"
     ]
    }
   ],
   "source": [
    "data = load_iris()\n",
    "X = data.data\n",
    "y = data.target\t\n",
    "\n",
    "X_train,X_test,y_train,y_test = train_test_split(X,y,test_size=.3,random_state=42)\n",
    "\n",
    "model = DecisionTreeClassifier()\n",
    "model.fit(X_train,y_train)\n",
    "\n",
    "y_pred = model.predict(X_test)\n",
    "acc = accuracy_score(y_test,y_pred)\n",
    "\n",
    "print(\"Accuracy:\",acc)"
   ]
  },
  {
   "cell_type": "code",
   "execution_count": 12,
   "metadata": {},
   "outputs": [
    {
     "data": {
      "image/png": "[encoded data removed]",
      "text/plain": [
       "<Figure size 640x480 with 2 Axes>"
      ]
     },
     "metadata": {},
     "output_type": "display_data"
    }
   ],
   "source": [
    "import seaborn as sns\n",
    "import matplotlib.pyplot as plt\n",
    "\n",
    "cor = confusion_matrix(y_test,y_pred,normalize=\"true\")\n",
    "sns.heatmap(cor,cmap=\"viridis\",annot=True)\n",
    "plt.show()"
   ]
  },
  {
   "cell_type": "code",
   "execution_count": null,
   "metadata": {},
   "outputs": [],
   "source": []
  }
 ],
 "metadata": {
  "kernelspec": {
   "display_name": "Python 3",
   "language": "python",
   "name": "python3"
  },
  "language_info": {
   "codemirror_mode": {
    "name": "ipython",
    "version": 3
   },
   "file_extension": ".py",
   "mimetype": "text/x-python",
   "name": "python",
   "nbconvert_exporter": "python",
   "pygments_lexer": "ipython3",
   "version": "3.8.0"
  }
 },
 "nbformat": 4,
 "nbformat_minor": 2
}
