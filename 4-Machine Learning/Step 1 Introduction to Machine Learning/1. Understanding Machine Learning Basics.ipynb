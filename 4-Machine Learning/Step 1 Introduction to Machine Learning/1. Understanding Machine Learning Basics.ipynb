{
 "cells": [
  {
   "cell_type": "markdown",
   "metadata": {},
   "source": [
    "# Understanding Machine Learning Basics\n",
    "\n",
    "In this notebook, we will cover the foundational concepts of machine learning. You'll learn what machine learning is, how it works, and why it's so powerful in solving a wide variety of problems.\n",
    "\n",
    "---\n",
    "\n",
    "## Table of Contents\n",
    "\n",
    "1. [What is Machine Learning?](#1-what-is-machine-learning)\n",
    "2. [Types of Machine Learning](#2-types-of-machine-learning)\n",
    "3. [Key Machine Learning Terminology](#3-key-terminology)\n",
    "4. [How Machine Learning Works](#4-how-machine-learning-works)\n",
    "\n",
    "---"
   ]
  },
  {
   "cell_type": "markdown",
   "metadata": {},
   "source": [
    "## 1. What is Machine Learning?\n",
    "\n",
    "Machine Learning (ML) is a subset of artificial intelligence that focuses on creating systems that can learn from data, identify patterns, and make decisions with minimal human intervention. In ML, instead of explicitly programming tasks, the model learns from data to generate outcomes."
   ]
  },
  {
   "cell_type": "code",
   "execution_count": 1,
   "metadata": {},
   "outputs": [
    {
     "name": "stdout",
     "output_type": "stream",
     "text": [
      "Sample data loaded for machine learning examples:\n"
     ]
    },
    {
     "data": {
      "text/html": [
       "<div>\n",
       "<style scoped>\n",
       "    .dataframe tbody tr th:only-of-type {\n",
       "        vertical-align: middle;\n",
       "    }\n",
       "\n",
       "    .dataframe tbody tr th {\n",
       "        vertical-align: top;\n",
       "    }\n",
       "\n",
       "    .dataframe thead th {\n",
       "        text-align: right;\n",
       "    }\n",
       "</style>\n",
       "<table border=\"1\" class=\"dataframe\">\n",
       "  <thead>\n",
       "    <tr style=\"text-align: right;\">\n",
       "      <th></th>\n",
       "      <th>feature1</th>\n",
       "      <th>feature2</th>\n",
       "      <th>target</th>\n",
       "    </tr>\n",
       "  </thead>\n",
       "  <tbody>\n",
       "    <tr>\n",
       "      <th>0</th>\n",
       "      <td>0.532528</td>\n",
       "      <td>0.419250</td>\n",
       "      <td>0.499662</td>\n",
       "    </tr>\n",
       "    <tr>\n",
       "      <th>1</th>\n",
       "      <td>0.479918</td>\n",
       "      <td>0.569375</td>\n",
       "      <td>0.700083</td>\n",
       "    </tr>\n",
       "    <tr>\n",
       "      <th>2</th>\n",
       "      <td>0.775048</td>\n",
       "      <td>0.818959</td>\n",
       "      <td>0.193950</td>\n",
       "    </tr>\n",
       "    <tr>\n",
       "      <th>3</th>\n",
       "      <td>0.708993</td>\n",
       "      <td>0.189788</td>\n",
       "      <td>0.984380</td>\n",
       "    </tr>\n",
       "    <tr>\n",
       "      <th>4</th>\n",
       "      <td>0.530710</td>\n",
       "      <td>0.610998</td>\n",
       "      <td>0.336355</td>\n",
       "    </tr>\n",
       "  </tbody>\n",
       "</table>\n",
       "</div>"
      ],
      "text/plain": [
       "   feature1  feature2    target\n",
       "0  0.532528  0.419250  0.499662\n",
       "1  0.479918  0.569375  0.700083\n",
       "2  0.775048  0.818959  0.193950\n",
       "3  0.708993  0.189788  0.984380\n",
       "4  0.530710  0.610998  0.336355"
      ]
     },
     "execution_count": 1,
     "metadata": {},
     "output_type": "execute_result"
    }
   ],
   "source": [
    "import numpy as np\n",
    "import pandas as pd\n",
    "from sklearn.model_selection import train_test_split\n",
    "from sklearn.linear_model import LinearRegression\n",
    "\n",
    "data = pd.DataFrame({\n",
    "    \"feature1\": np.random.rand(100),\n",
    "    \"feature2\": np.random.rand(100),\n",
    "    \"target\": np.random.rand(100)\n",
    "})\n",
    "\n",
    "print(\"Sample data loaded for machine learning examples:\")\n",
    "data.head()"
   ]
  },
  {
   "cell_type": "markdown",
   "metadata": {},
   "source": [
    "In the above example, we’ve generated some random data to help us understand ML in action later."
   ]
  },
  {
   "cell_type": "markdown",
   "metadata": {},
   "source": [
    "## 2. Types of Machine Learning"
   ]
  },
  {
   "cell_type": "markdown",
   "metadata": {},
   "source": [
    "### 2.1 Supervised Learning\n",
    "In supervised learning, the model learns from labeled data, i.e., data that has input-output pairs. The goal is to predict the output based on new inputs.\n",
    "\n",
    "### 2.2 Unsupervised Learning\n",
    "In unsupervised learning, the model is given data without explicit labels and must find patterns or structure in the data.\n",
    "\n",
    "### 2.3 Reinforcement Learning\n",
    "Reinforcement learning involves an agent interacting with an environment and learning to maximize rewards based on feedback."
   ]
  },
  {
   "cell_type": "markdown",
   "metadata": {},
   "source": [
    "## 3. Key Machine Learning Terminology\n",
    "- Model: The system that makes predictions or identifications.\n",
    "- Features: Input variables (e.g., size, price) used by the model to make predictions.\n",
    "- Target: The output or label we want to predict.\n",
    "- Training: The process of teaching a model using data.\n",
    "- Testing: The process of evaluating a model's performance on unseen data."
   ]
  },
  {
   "cell_type": "code",
   "execution_count": 2,
   "metadata": {},
   "outputs": [
    {
     "name": "stdout",
     "output_type": "stream",
     "text": [
      "Training set size: 80 rows\n",
      "Testing set size: 20 rows\n"
     ]
    }
   ],
   "source": [
    "X = data.drop(columns=[\"target\"])\n",
    "y = data[\"target\"]\n",
    "\n",
    "X_train,X_test,y_train,y_test = train_test_split(X,y,test_size=.2,random_state=42)\n",
    "\n",
    "print(f\"Training set size: {X_train.shape[0]} rows\")\n",
    "print(f\"Testing set size: {X_test.shape[0]} rows\")"
   ]
  },
  {
   "cell_type": "markdown",
   "metadata": {},
   "source": [
    "## 4. How Machine Learning Works\n",
    "In supervised learning, a typical ML pipeline involves these steps:\n",
    "\n",
    "- Data Collection: Gathering relevant data.\n",
    "- Preprocessing: Cleaning and transforming the data.\n",
    "- Model Training: Teaching the model using the data.\n",
    "- Evaluation: Testing the model on new, unseen data.\n",
    "- Prediction: Making predictions on future data."
   ]
  },
  {
   "cell_type": "code",
   "execution_count": 7,
   "metadata": {},
   "outputs": [
    {
     "name": "stdout",
     "output_type": "stream",
     "text": [
      "Predictions on the test set: [0.55498828 0.56943957 0.52114903 0.53417587 0.51824925]\n"
     ]
    }
   ],
   "source": [
    "model = LinearRegression()\n",
    "model.fit(X_train,y_train)\n",
    "preds = model.predict(X_test)\n",
    "\n",
    "print(f\"Predictions on the test set: {preds[:5]}\")"
   ]
  },
  {
   "cell_type": "markdown",
   "metadata": {},
   "source": [
    "We’ve built a basic linear regression model that learned from the training data and made predictions on the test data."
   ]
  }
 ],
 "metadata": {
  "kernelspec": {
   "display_name": "Python 3",
   "language": "python",
   "name": "python3"
  },
  "language_info": {
   "codemirror_mode": {
    "name": "ipython",
    "version": 3
   },
   "file_extension": ".py",
   "mimetype": "text/x-python",
   "name": "python",
   "nbconvert_exporter": "python",
   "pygments_lexer": "ipython3",
   "version": "3.8.0"
  }
 },
 "nbformat": 4,
 "nbformat_minor": 2
}
