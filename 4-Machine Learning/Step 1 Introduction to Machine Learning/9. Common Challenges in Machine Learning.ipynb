{
 "cells": [
  {
   "cell_type": "markdown",
   "metadata": {},
   "source": [
    "# Common Challenges in Machine Learning\n",
    "\n",
    "Machine learning can be powerful, but it comes with various challenges that can impact the effectiveness of models. In this section, we will discuss some of the most common challenges faced in machine learning, along with solutions and best practices.\n",
    "\n",
    "---\n",
    "\n",
    "## Table of Contents\n",
    "\n",
    "1. [Challenge 1: Overfitting and Underfitting](#1-overfitting-underfitting)\n",
    "2. [Challenge 2: Data Imbalance](#2-data-imbalance)\n",
    "3. [Challenge 3: Feature Selection](#3-feature-selection)\n",
    "4. [Challenge 4: Data Quality Issues](#4-data-quality)\n",
    "5. [Challenge 5: Interpretability of Models](#5-interpretability-of-models)\n",
    "6. [Challenge 6: Model Deployment and Scalability](#6-model-deployment)\n",
    "\n",
    "---"
   ]
  },
  {
   "cell_type": "markdown",
   "metadata": {},
   "source": [
    "## 1. Overfitting and Underfitting\n",
    "\n",
    "### **Overfitting**\n",
    "Overfitting occurs when a model learns the noise in the training data rather than the underlying patterns. This results in high accuracy on the training set but poor generalization to unseen data.\n",
    "\n",
    "### **Underfitting**\n",
    "Underfitting occurs when a model is too simple to capture the underlying patterns in the data, resulting in both high training and test errors.\n"
   ]
  },
  {
   "cell_type": "code",
   "execution_count": 1,
   "metadata": {},
   "outputs": [],
   "source": [
    "from sklearn.linear_model import Ridge\n",
    "from sklearn.model_selection import train_test_split\n",
    "from sklearn.metrics import mean_squared_error"
   ]
  },
  {
   "cell_type": "code",
   "execution_count": 2,
   "metadata": {},
   "outputs": [
    {
     "name": "stdout",
     "output_type": "stream",
     "text": [
      "Test MSE: 0.5887\n"
     ]
    }
   ],
   "source": [
    "import numpy as np\n",
    "X = np.random.rand(100,1)*10\n",
    "y = np.sin(X).ravel() + np.random.normal(0,.5,X.shape[0])\n",
    "\n",
    "X_train,X_test,y_train,y_test = train_test_split(X,y,test_size=.3,random_state=42)\n",
    "\n",
    "# Overfitting: Use a very complex model\n",
    "ridge = Ridge(alpha=.01)\n",
    "ridge.fit(X_train,y_train)\n",
    "y_pred = ridge.predict(X_test)\n",
    "\n",
    "test_error = mean_squared_error(y_test,y_pred)\n",
    "print(f\"Test MSE: {test_error:.4f}\")"
   ]
  },
  {
   "cell_type": "markdown",
   "metadata": {},
   "source": [
    "Solutions:\n",
    "- Use cross-validation to monitor performance on unseen data.\n",
    "- Apply regularization techniques like Ridge or Lasso to prevent overfitting.\n",
    "- Increase model complexity for underfitting."
   ]
  },
  {
   "cell_type": "markdown",
   "metadata": {},
   "source": [
    "## 2. Data Imbalance\n",
    "### Problem\n",
    "Data imbalance occurs when one class significantly outnumbers others, leading to biased models that favor the majority class.\n",
    "\n",
    "### Solutions:\n",
    "- Resampling: Oversample the minority class or undersample the majority class.\n",
    "- Class Weights: Adjust class weights to penalize misclassification of the minority class.\n",
    "- Synthetic Data Generation: Use techniques like SMOTE (Synthetic Minority Over-sampling Technique)."
   ]
  },
  {
   "cell_type": "code",
   "execution_count": 9,
   "metadata": {},
   "outputs": [
    {
     "data": {
      "image/png": "[encoded data removed]",
      "text/plain": [
       "<Figure size 640x480 with 1 Axes>"
      ]
     },
     "metadata": {},
     "output_type": "display_data"
    }
   ],
   "source": [
    "from sklearn.utils import resample\n",
    "import pandas as pd\n",
    "\n",
    "data = pd.read_csv(\"data_imbalance.csv\")\n",
    "\n",
    "X = data.drop(columns=[\"Target\"])\n",
    "y = data[\"Target\"]\n",
    "\n",
    "majority_class = X[y == 0]\n",
    "minority_class = X[y == 1]\n",
    "\n",
    "\n",
    "min_upsampled = resample(minority_class,\n",
    "                         replace=True,\n",
    "                         n_samples=len(majority_class),\n",
    "                         random_state=42)\n",
    "\n",
    "balanced_data = np.vstack((majority_class, min_upsampled))\n",
    "\n",
    "import seaborn as sns\n",
    "import matplotlib.pyplot as plt\n",
    "\n",
    "sns.barplot(balanced_data)\n",
    "plt.show()"
   ]
  },
  {
   "cell_type": "markdown",
   "metadata": {},
   "source": [
    "## 3. Feature Selection\n",
    "### Problem\n",
    "- Having too many irrelevant or redundant features can lead to overfitting, while too few features can result in underfitting. Choosing the right features is critical for building effective models.\n",
    "\n",
    "### Solutions:\n",
    "- Use algorithms like Recursive Feature Elimination (RFE) or Lasso to select important features.\n",
    "- Use PCA (Principal Component Analysis) or LDA (Linear Discriminant Analysis) for dimensionality reduction."
   ]
  },
  {
   "cell_type": "code",
   "execution_count": 10,
   "metadata": {},
   "outputs": [
    {
     "name": "stdout",
     "output_type": "stream",
     "text": [
      "Selected features: [ True  True]\n"
     ]
    }
   ],
   "source": [
    "from sklearn.feature_selection import RFE\n",
    "from sklearn.linear_model import LogisticRegression\n",
    "\n",
    "model = LogisticRegression()\n",
    "rfe = RFE(model, n_features_to_select=5)\n",
    "rfe.fit(X, y)\n",
    "print(\"Selected features:\", rfe.support_)"
   ]
  },
  {
   "cell_type": "markdown",
   "metadata": {},
   "source": [
    "## 4. Data Quality Issues\n",
    "### Problem\n",
    "- Dirty data—such as missing values, outliers, and noise—can negatively impact model performance.\n",
    "\n",
    "### Solutions:\n",
    "- Handle missing data: Use techniques like mean/mode imputation, forward/backward filling, or remove missing entries.\n",
    "- Handle outliers: Use robust statistical methods or simply remove extreme outliers.\n",
    "- Noise reduction: Use smoothing techniques like moving averages for time-series data or filtering."
   ]
  },
  {
   "cell_type": "code",
   "execution_count": 11,
   "metadata": {},
   "outputs": [],
   "source": [
    "from sklearn.impute import SimpleImputer\n",
    "imputer = SimpleImputer(strategy='mean')\n",
    "X_imputed = imputer.fit_transform(X)"
   ]
  },
  {
   "cell_type": "markdown",
   "metadata": {},
   "source": [
    "## 5. Interpretability of Models\n",
    "### Problem\n",
    "- While complex models like neural networks and ensemble methods provide high accuracy, they often lack interpretability, making it hard to understand why decisions are made.\n",
    "\n",
    "### Solutions:\n",
    "- Use simpler, interpretable models when possible (e.g., decision trees).\n",
    "- Apply techniques like LIME (Local Interpretable Model-agnostic Explanations) or SHAP (SHapley Additive exPlanations) to explain complex models."
   ]
  },
  {
   "cell_type": "code",
   "execution_count": null,
   "metadata": {},
   "outputs": [],
   "source": [
    "import shap\n",
    "explainer = shap.TreeExplainer(model)\n",
    "shap_values = explainer.shap_values(X_test)\n",
    "shap.summary_plot(shap_values, X_test)"
   ]
  },
  {
   "cell_type": "markdown",
   "metadata": {},
   "source": [
    "## 6. Model Deployment and Scalability\n",
    "### Problem\n",
    "- Once a model is trained, deploying it into a production environment and ensuring it scales effectively can be challenging.\n",
    "\n",
    "### Solutions:\n",
    "- Use frameworks like TensorFlow Serving, Flask, or FastAPI to deploy models.\n",
    "Ensure models are optimized for real-time predictions with efficient resource use."
   ]
  },
  {
   "cell_type": "code",
   "execution_count": null,
   "metadata": {},
   "outputs": [],
   "source": [
    "from flask import Flask, request, jsonify\n",
    "\n",
    "app = Flask(__name__)\n",
    "\n",
    "@app.route('/predict', methods=['POST'])\n",
    "def predict():\n",
    "    data = request.json  # Receive input data\n",
    "    prediction = model.predict([data['features']])\n",
    "    return jsonify({'prediction': prediction[0]})\n",
    "\n",
    "if __name__ == '__main__':\n",
    "    app.run(debug=True)"
   ]
  }
 ],
 "metadata": {
  "kernelspec": {
   "display_name": "Python 3",
   "language": "python",
   "name": "python3"
  },
  "language_info": {
   "codemirror_mode": {
    "name": "ipython",
    "version": 3
   },
   "file_extension": ".py",
   "mimetype": "text/x-python",
   "name": "python",
   "nbconvert_exporter": "python",
   "pygments_lexer": "ipython3",
   "version": "3.8.0"
  }
 },
 "nbformat": 4,
 "nbformat_minor": 2
}
