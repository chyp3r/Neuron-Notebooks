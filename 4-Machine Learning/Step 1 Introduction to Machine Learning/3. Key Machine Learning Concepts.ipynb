{
 "cells": [
  {
   "cell_type": "markdown",
   "metadata": {},
   "source": [
    "# Key Machine Learning Concepts\n",
    "\n",
    "Understanding fundamental machine learning concepts is essential for building robust models. In this section, we will cover essential topics such as the bias-variance tradeoff, overfitting and underfitting, the importance of the train-test split, and cross-validation.\n",
    "\n",
    "---\n",
    "\n",
    "## Table of Contents\n",
    "\n",
    "1. [Bias-Variance Tradeoff](#1-bias-variance-tradeoff)\n",
    "2. [Overfitting and Underfitting](#2-overfitting-and-underfitting)\n",
    "3. [Train-Test Split](#3-train-test-split)\n",
    "4. [Cross-Validation](#4-cross-validation)\n",
    "5. [Regularization](#5-regularization)\n",
    "6. [Evaluation Metrics](#6-evaluation-metrics)\n",
    "\n",
    "---"
   ]
  },
  {
   "attachments": {
    "image.png": {
     "image/png": "[encoded data removed]"
    }
   },
   "cell_type": "markdown",
   "metadata": {},
   "source": [
    "## 1. Bias-Variance Tradeoff\n",
    "\n",
    "The **bias-variance tradeoff** is a key concept that describes the tension between underfitting (high bias) and overfitting (high variance). It helps us understand the balance needed to make a model generalize well.\n",
    "\n",
    "- **Bias** refers to the error introduced by approximating a real-world problem with a simplified model. High bias means the model is too simple and unable to capture the complexities of the data.\n",
    "- **Variance** refers to the model's sensitivity to small changes in the training data. High variance means the model is too complex and captures noise along with the underlying patterns.\n",
    "\n",
    "### Bias-Variance Graph\n",
    "\n",
    "Visualizing this tradeoff helps clarify the relationship between model complexity and error.\n",
    "\n",
    "![image.png](attachment:image.png)\n",
    "\n",
    "*If a model is too simple (high bias), it will perform poorly on both training and test data. Conversely, if a model is too complex (high variance), it will perform well on training data but poorly on test data (overfitting).*"
   ]
  },
  {
   "cell_type": "markdown",
   "metadata": {},
   "source": [
    "## 2. Overfitting and Underfitting\n",
    "### Overfitting\n",
    "Overfitting occurs when a model captures noise or irrelevant details in the training data, making it perform poorly on unseen data.\n",
    "Symptoms: High accuracy on training data but low accuracy on test data.\n",
    "#### Causes of Overfitting:\n",
    "- Model complexity: A model with too many parameters may fit the noise in the data.\n",
    "- Small datasets: Not enough data for the model to learn general patterns.\n",
    "#### Prevention Methods:\n",
    "- Regularization: Adding constraints or penalties to the model to prevent over-complexity.\n",
    "- Pruning (for Decision Trees): Cutting branches that may fit noise.\n",
    "- Dropout (for Neural Networks): Randomly turning off some neurons during training to prevent reliance on certain patterns.\n",
    "### Underfitting\n",
    "Underfitting occurs when a model is too simple and cannot capture the underlying patterns in the data.\n",
    "Symptoms: Poor performance on both training and test datasets.\n",
    "#### Causes of Underfitting:\n",
    "- Using overly simple models (e.g., linear regression for non-linear data).\n",
    "- Not enough features or poor feature engineering.\n",
    "#### Solutions for Underfitting:\n",
    "- Increase model complexity: Use a more powerful algorithm.\n",
    "- Feature engineering: Add more meaningful features to help the model better capture patterns."
   ]
  },
  {
   "cell_type": "markdown",
   "metadata": {},
   "source": [
    "*Balancing overfitting and underfitting is crucial for achieving good model performance.*"
   ]
  },
  {
   "cell_type": "markdown",
   "metadata": {},
   "source": [
    "## 3. Train-Test Split\n",
    "The train-test split is an essential step in machine learning to evaluate how well your model generalizes to unseen data.\n",
    "\n",
    "- Training Set: This is the portion of the dataset used to train the model.\n",
    "- Test Set: This is the portion used to evaluate the model's performance."
   ]
  },
  {
   "cell_type": "code",
   "execution_count": 16,
   "metadata": {},
   "outputs": [
    {
     "name": "stdout",
     "output_type": "stream",
     "text": [
      "Training set size: (120, 4)\n",
      "Testing set size: (30, 4)\n"
     ]
    }
   ],
   "source": [
    "from sklearn.model_selection import train_test_split\n",
    "from sklearn.preprocessing import LabelEncoder\n",
    "import pandas as pd\n",
    "\n",
    "data = pd.read_csv(\"iris.csv\")\n",
    "data[\"species\"] = LabelEncoder().fit_transform(data[\"species\"])\n",
    "\n",
    "X = data.drop(columns=\"species\")  \n",
    "y = data[\"species\"]  \n",
    "\n",
    "X_train, X_test, y_train, y_test = train_test_split(X, y, test_size=0.2, random_state=42)\n",
    "\n",
    "print(\"Training set size:\", X_train.shape)\n",
    "print(\"Testing set size:\", X_test.shape)"
   ]
  },
  {
   "cell_type": "markdown",
   "metadata": {},
   "source": [
    "Guidelines for Train-Test Split:\n",
    "- A typical split is 80% for training and 20% for testing, but it can vary.\n",
    "- Ensure the test data is not used during training to provide an unbiased estimate of model performance."
   ]
  },
  {
   "cell_type": "markdown",
   "metadata": {},
   "source": [
    "## 4. Cross-Validation\n",
    "Cross-validation is a more reliable way to evaluate model performance compared to a single train-test split. It helps ensure that the model generalizes well to new data by using multiple training and testing subsets.\n",
    "### K-Fold Cross-Validation:\n",
    "In K-fold cross-validation, the dataset is split into K subsets. The model is trained on K-1 subsets and tested on the remaining one. This process is repeated K times, with each subset used as the test set once."
   ]
  },
  {
   "cell_type": "code",
   "execution_count": 17,
   "metadata": {},
   "outputs": [
    {
     "name": "stdout",
     "output_type": "stream",
     "text": [
      "Cross-validation scores: [0.         0.85215955 0.         0.76225759 0.        ]\n",
      "Average cross-validation score: 0.3228834275997373\n"
     ]
    }
   ],
   "source": [
    "from sklearn.model_selection import cross_val_score\n",
    "from sklearn.linear_model import LinearRegression\n",
    "\n",
    "model = LinearRegression()\n",
    "\n",
    "cv_scores = cross_val_score(model, X, y, cv=5)\n",
    "\n",
    "print(\"Cross-validation scores:\", cv_scores)\n",
    "print(\"Average cross-validation score:\", cv_scores.mean())"
   ]
  },
  {
   "cell_type": "markdown",
   "metadata": {},
   "source": [
    "Advantages of Cross-Validation:\n",
    "- Provides a better estimate of model performance.\n",
    "- Reduces the risk of overfitting to a particular train-test split."
   ]
  },
  {
   "cell_type": "markdown",
   "metadata": {},
   "source": [
    "## 5. Regularization\n",
    "Regularization is a technique used to reduce model complexity and prevent overfitting by adding a penalty for larger coefficients in the model.\n",
    "### Types of Regularization:\n",
    "- L1 Regularization (Lasso): Adds a penalty equal to the absolute value of the coefficients.\n",
    "- L2 Regularization (Ridge): Adds a penalty equal to the square of the coefficients.\n",
    "\n",
    "*Regularization is especially useful for models with many features, as it prevents overfitting by shrinking coefficients.*"
   ]
  },
  {
   "cell_type": "code",
   "execution_count": 15,
   "metadata": {},
   "outputs": [],
   "source": [
    "from sklearn.linear_model import Lasso, Ridge\n",
    "from sklearn.model_selection import train_test_split\n",
    "from sklearn.datasets import make_regression\n",
    "from sklearn.metrics import mean_squared_error\n",
    "\n",
    "X, y = make_regression(n_samples=100, n_features=20, noise=0.1, random_state=42)\n",
    "\n",
    "X_train1, X_test1, y_train1, y_test1 = train_test_split(X, y, test_size=.3, random_state=42)\n",
    "\n",
    "lasso = Lasso(alpha=0.1)  # The alpha parameter controls the strength of regularization\n",
    "lasso.fit(X_train1, y_train1)\n",
    "\n",
    "y_pred_lasso = lasso.predict(X_test1)\n",
    "\n",
    "ridge = Ridge(alpha=0.1)  # The alpha parameter controls the strength of regularization\n",
    "ridge.fit(X_train1, y_train1)\n",
    "\n",
    "y_pred_ridge = ridge.predict(X_test1)"
   ]
  },
  {
   "cell_type": "markdown",
   "metadata": {},
   "source": [
    "## 6. Evaluation Metrics\n",
    "After training the model, it's important to evaluate its performance using appropriate metrics. The choice of metrics depends on the type of problem (classification or regression).\n",
    "\n",
    "### For Classification Problems:\n",
    "- Accuracy: The ratio of correctly predicted instances to total instances.\n",
    "- Precision: The ratio of true positive predictions to all positive predictions.\n",
    "- Recall (Sensitivity): The ratio of true positive predictions to all actual positives.\n",
    "- F1-Score: The harmonic mean of precision and recall.\n",
    "### For Regression Problems:\n",
    "- Mean Squared Error (MSE): Measures the average squared difference between predicted and actual values.\n",
    "- R-squared: Represents the proportion of variance in the target variable that is predictable from the features."
   ]
  },
  {
   "cell_type": "code",
   "execution_count": 18,
   "metadata": {},
   "outputs": [
    {
     "name": "stdout",
     "output_type": "stream",
     "text": [
      "Accuracy: 1.0\n",
      "Precision: 1.0\n",
      "Recall: 1.0\n",
      "F1-Score: 1.0\n"
     ]
    }
   ],
   "source": [
    "from sklearn.metrics import accuracy_score, precision_score, recall_score, f1_score\n",
    "from sklearn.linear_model import LogisticRegression\n",
    "\n",
    "model = LogisticRegression()\n",
    "model.fit(X_train,y_train)\n",
    "y_pred = model.predict(X_test)\n",
    "\n",
    "accuracy = accuracy_score(y_test, y_pred)\n",
    "precision = precision_score(y_test, y_pred,average=\"macro\")\n",
    "recall = recall_score(y_test, y_pred,average=\"macro\")\n",
    "f1 = f1_score(y_test, y_pred,average=\"macro\")\n",
    "\n",
    "print(f\"Accuracy: {accuracy}\")\n",
    "print(f\"Precision: {precision}\")\n",
    "print(f\"Recall: {recall}\")\n",
    "print(f\"F1-Score: {f1}\")"
   ]
  },
  {
   "cell_type": "markdown",
   "metadata": {},
   "source": [
    "For imbalanced datasets, metrics like precision, recall, and F1-score are more informative than accuracy."
   ]
  }
 ],
 "metadata": {
  "kernelspec": {
   "display_name": "Python 3",
   "language": "python",
   "name": "python3"
  },
  "language_info": {
   "codemirror_mode": {
    "name": "ipython",
    "version": 3
   },
   "file_extension": ".py",
   "mimetype": "text/x-python",
   "name": "python",
   "nbconvert_exporter": "python",
   "pygments_lexer": "ipython3",
   "version": "3.8.0"
  }
 },
 "nbformat": 4,
 "nbformat_minor": 2
}
