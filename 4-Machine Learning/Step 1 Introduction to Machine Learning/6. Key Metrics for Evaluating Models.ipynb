{
 "cells": [
  {
   "cell_type": "markdown",
   "metadata": {},
   "source": [
    "# Key Metrics for Evaluating Models\n",
    "\n",
    "Evaluating a machine learning model is critical to understanding its performance. Different models require different evaluation metrics depending on whether the task is regression, classification, or clustering. In this notebook, we will explore key metrics used to evaluate supervised and unsupervised learning models.\n",
    "\n",
    "## Table of Contents\n",
    "\n",
    "1. [Classification Metrics](#1-classification-metrics)\n",
    "2. [Regression Metrics](#2-regression-metrics)\n",
    "3. [Clustering Metrics](#3-clustering-metrics)\n",
    "4. [Dimensionality Reduction Metrics](#4-dimensionality-reduction-metrics)\n",
    "\n",
    "---"
   ]
  },
  {
   "cell_type": "markdown",
   "metadata": {},
   "source": [
    "## 1. Classification Metrics\n",
    "\n",
    "### Description:\n",
    "Classification metrics help assess the performance of classification models, which predict discrete labels. Common metrics include accuracy, precision, recall, F1-score, and AUC-ROC.\n",
    "\n",
    "### Usage Areas:\n",
    "- Binary classification\n",
    "- Multi-class classification\n",
    "- Medical diagnostics\n",
    "- Fraud detection"
   ]
  },
  {
   "cell_type": "code",
   "execution_count": 2,
   "metadata": {},
   "outputs": [
    {
     "name": "stdout",
     "output_type": "stream",
     "text": [
      "Accuracy: 0.8444444444444444\n",
      "Precision: 0.8837209302325582\n",
      "Recall: 0.8085106382978723\n",
      "F1-Score: 0.8444444444444444\n",
      "AUC-ROC: 0.8461157842652153\n"
     ]
    }
   ],
   "source": [
    "from sklearn.metrics import accuracy_score,precision_score,recall_score,f1_score,roc_auc_score\n",
    "from sklearn.datasets import make_classification\n",
    "from sklearn.ensemble import RandomForestClassifier\n",
    "from sklearn.model_selection import train_test_split\n",
    "\n",
    "X, y = make_classification(n_samples = 300,n_classes =2)\n",
    "X_train,X_test,y_train,y_test = train_test_split(X,y,test_size=.3,random_state = 42)\n",
    "\n",
    "model = RandomForestClassifier()\n",
    "model.fit(X_train,y_train)\n",
    "y_pred = model.predict(X_test)\n",
    "\n",
    "accuracy = accuracy_score(y_test,y_pred)\n",
    "precision = precision_score(y_test,y_pred)\n",
    "recall = recall_score(y_test,y_pred)\n",
    "f1 = f1_score(y_test,y_pred)\n",
    "roc_auc = roc_auc_score(y_test,y_pred)\n",
    "\n",
    "print(f\"Accuracy: {accuracy}\")\n",
    "print(f\"Precision: {precision}\")\n",
    "print(f\"Recall: {recall}\")\n",
    "print(f\"F1-Score: {f1}\")\n",
    "print(f\"AUC-ROC: {roc_auc}\")"
   ]
  },
  {
   "cell_type": "code",
   "execution_count": 6,
   "metadata": {},
   "outputs": [
    {
     "data": {
      "image/png": "[encoded data removed]",
      "text/plain": [
       "<Figure size 640x480 with 2 Axes>"
      ]
     },
     "metadata": {},
     "output_type": "display_data"
    }
   ],
   "source": [
    "import seaborn as sns \n",
    "import matplotlib.pyplot as plt\n",
    "from sklearn.metrics import confusion_matrix\n",
    "\n",
    "corr = confusion_matrix(y_test,y_pred)\n",
    "sns.heatmap(corr,cmap=\"coolwarm\",annot=True)\n",
    "plt.xlabel(\"True\")\n",
    "plt.ylabel(\"Predicted\")\n",
    "plt.show()"
   ]
  },
  {
   "cell_type": "markdown",
   "metadata": {},
   "source": [
    "## 2. Regression Metrics\n",
    "Regression metrics assess models that predict continuous values. Common metrics include Mean Absolute Error (MAE), Mean Squared Error (MSE), Root Mean Squared Error (RMSE), and R² score.\n",
    "\n",
    "### Usage Areas:\n",
    "- Predicting housing prices\n",
    "- Stock market forecasting\n",
    "- Sales prediction"
   ]
  },
  {
   "cell_type": "code",
   "execution_count": 8,
   "metadata": {},
   "outputs": [
    {
     "name": "stdout",
     "output_type": "stream",
     "text": [
      "Mean Absolute Error: 0.22872372337736813\n",
      "Mean Squared Error: 0.07946678193578234\n",
      "Root Mean Squared Error: 0.2818985312763838\n",
      "R² Score: 0.9999970698886276\n"
     ]
    }
   ],
   "source": [
    "from sklearn.metrics import mean_squared_error,mean_absolute_error,r2_score\n",
    "from sklearn.datasets import make_regression\n",
    "from sklearn.linear_model import LinearRegression\n",
    "\n",
    "X,y= make_regression(n_samples=300,noise=0.2,random_state=42)\n",
    "X_train,X_test,y_train,y_test = train_test_split(X,y,test_size=.3,random_state=42)\n",
    "\n",
    "model = LinearRegression()\n",
    "model.fit(X_train,y_train)\n",
    "\n",
    "y_pred = model.predict(X_test)\n",
    "\n",
    "MSE = mean_squared_error(y_test,y_pred)\n",
    "MAE = mean_absolute_error(y_test,y_pred)\n",
    "RMSE = mean_squared_error(y_test,y_pred,squared=False)\n",
    "R2 = r2_score(y_test,y_pred)\n",
    "\n",
    "print(f\"Mean Absolute Error: {MAE}\")\n",
    "print(f\"Mean Squared Error: {MSE}\")\n",
    "print(f\"Root Mean Squared Error: {RMSE}\")\n",
    "print(f\"R² Score: {R2}\")"
   ]
  },
  {
   "cell_type": "markdown",
   "metadata": {},
   "source": [
    "## 3. Clustering Metrics\n",
    "Clustering metrics evaluate the performance of unsupervised learning models that group data into clusters. Popular metrics include Silhouette Score, Davies-Bouldin Index, and Adjusted Rand Index (ARI).\n",
    "\n",
    "### Usage Areas:\n",
    "- Market segmentation\n",
    "- Document clustering\n",
    "- Image segmentation"
   ]
  },
  {
   "cell_type": "code",
   "execution_count": 10,
   "metadata": {},
   "outputs": [],
   "source": [
    "import warnings\n",
    "warnings.filterwarnings(\"ignore\")"
   ]
  },
  {
   "cell_type": "code",
   "execution_count": 11,
   "metadata": {},
   "outputs": [
    {
     "name": "stdout",
     "output_type": "stream",
     "text": [
      "Silhouette Score: 0.6586478247336219\n",
      "Davies-Bouldin Index: 0.49323365269520353\n",
      "Adjusted Rand Index: 0.966921368753416\n"
     ]
    }
   ],
   "source": [
    "from sklearn.metrics import silhouette_score, davies_bouldin_score, adjusted_rand_score\n",
    "from sklearn.datasets import make_blobs\n",
    "from sklearn.cluster import KMeans\n",
    "\n",
    "X,y_true = make_blobs(n_samples=300,centers = 5,random_state=42)\n",
    "kmeans = KMeans(n_clusters=5)\n",
    "y_kmeans = kmeans.fit_predict(X)\n",
    "\n",
    "silhouette = silhouette_score(X, y_kmeans)\n",
    "db_score = davies_bouldin_score(X, y_kmeans)\n",
    "ari = adjusted_rand_score(y_true, y_kmeans)\n",
    "\n",
    "print(f\"Silhouette Score: {silhouette}\")\n",
    "print(f\"Davies-Bouldin Index: {db_score}\")\n",
    "print(f\"Adjusted Rand Index: {ari}\")"
   ]
  },
  {
   "cell_type": "markdown",
   "metadata": {},
   "source": [
    "## 4. Dimensionality Reduction Metrics\n",
    "Dimensionality reduction metrics assess how well a model reduces the number of features while preserving the structure of the data. Reconstruction Error and Explained Variance are common metrics used in PCA and Autoencoders.\n",
    "\n",
    "### Usage Areas:\n",
    "- Data visualization\n",
    "- Feature extraction\n",
    "- Reducing computational complexity"
   ]
  },
  {
   "cell_type": "code",
   "execution_count": 12,
   "metadata": {},
   "outputs": [
    {
     "name": "stdout",
     "output_type": "stream",
     "text": [
      "Explained Variance by each principal component: [0.54303187 0.45696813]\n"
     ]
    }
   ],
   "source": [
    "from sklearn.decomposition import PCA\n",
    "from sklearn.metrics import explained_variance_score\n",
    "from sklearn.preprocessing import StandardScaler\n",
    "\n",
    "scaler = StandardScaler()\n",
    "X_scaled = scaler.fit_transform(X)\n",
    "\n",
    "pca = PCA(n_components=2)\n",
    "X_pca = pca.fit_transform(X_scaled)\n",
    "\n",
    "explained_variance = pca.explained_variance_ratio_\n",
    "print(f\"Explained Variance by each principal component: {explained_variance}\")"
   ]
  }
 ],
 "metadata": {
  "kernelspec": {
   "display_name": "Python 3",
   "language": "python",
   "name": "python3"
  },
  "language_info": {
   "codemirror_mode": {
    "name": "ipython",
    "version": 3
   },
   "file_extension": ".py",
   "mimetype": "text/x-python",
   "name": "python",
   "nbconvert_exporter": "python",
   "pygments_lexer": "ipython3",
   "version": "3.8.0"
  }
 },
 "nbformat": 4,
 "nbformat_minor": 2
}
