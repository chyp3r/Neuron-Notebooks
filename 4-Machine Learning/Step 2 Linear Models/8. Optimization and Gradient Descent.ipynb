{
 "cells": [
  {
   "cell_type": "markdown",
   "metadata": {},
   "source": [
    "# Optimization and Gradient Descent\n",
    "\n",
    "Optimization is the process of adjusting model parameters to minimize a loss function and improve performance. In this section, we focus on the Gradient Descent optimization algorithm and its variations, which are widely used for training machine learning models.\n",
    "\n",
    "---\n",
    "\n",
    "## Table of Contents\n",
    "\n",
    "1. [Introduction to Optimization](#1-introduction-to-optimization)\n",
    "2. [Gradient Descent Overview](#2-gradient-descent-overview)\n",
    "3. [Gradient Descent Variants](#3-gradient-descent-variants)\n",
    "    - Batch Gradient Descent\n",
    "    - Stochastic Gradient Descent\n",
    "    - Mini-batch Gradient Descent\n",
    "4. [Gradient Descent Code Example](#4-gradient-descent-code-example)\n",
    "5. [Learning Rate Tuning](#5-learning-rate-tuning)\n",
    "6. [Advanced Optimization Algorithms](#6-advanced-optimization-algorithms)\n",
    "    - Momentum\n",
    "    - RMSprop\n",
    "    - Adam\n",
    "\n",
    "---"
   ]
  },
  {
   "cell_type": "markdown",
   "metadata": {},
   "source": [
    "## 1. Introduction to Optimization\n",
    "\n",
    "Optimization involves adjusting the parameters of a model to minimize a loss function (also known as a cost function). The goal is to find the optimal set of parameters that result in the best model performance.\n",
    "\n",
    "---"
   ]
  },
  {
   "cell_type": "markdown",
   "metadata": {},
   "source": [
    "## 2. Gradient Descent Overview\n",
    "\n",
    "Gradient Descent is an iterative optimization algorithm used to minimize the loss function. It calculates the gradient (partial derivatives) of the loss function with respect to the model parameters and updates the parameters in the opposite direction of the gradient.\n",
    "\n",
    "The parameter update rule for Gradient Descent is:\n",
    "\n",
    "\\[\n",
    "\\theta = \\theta - \\alpha \\nabla J(\\theta)\n",
    "\\]\n",
    "\n",
    "Where:\n",
    "- \\( \\theta \\) are the model parameters,\n",
    "- \\( \\alpha \\) is the learning rate,\n",
    "- \\( \\nabla J(\\theta) \\) is the gradient of the loss function with respect to the parameters.\n",
    "\n",
    "---"
   ]
  },
  {
   "cell_type": "markdown",
   "metadata": {},
   "source": [
    "## 3. Gradient Descent Variants\n",
    "\n",
    "### 3.1 Batch Gradient Descent\n",
    "\n",
    "In batch gradient descent, the entire dataset is used to compute the gradient of the loss function before updating the model parameters. This can be slow for large datasets.\n",
    "\n",
    "### 3.2 Stochastic Gradient Descent (SGD)\n",
    "\n",
    "Stochastic Gradient Descent updates the model parameters for each training example, leading to faster but noisier convergence.\n",
    "\n",
    "### 3.3 Mini-batch Gradient Descent\n",
    "\n",
    "Mini-batch gradient descent is a compromise between batch and stochastic methods. It updates the model parameters based on a small batch of training examples, improving both the efficiency and stability of the optimization.\n",
    "\n",
    "---"
   ]
  },
  {
   "cell_type": "markdown",
   "metadata": {},
   "source": [
    "## 4. Gradient Descent Code Example\n",
    "\n",
    "Here’s a simple implementation of gradient descent for linear regression."
   ]
  },
  {
   "cell_type": "code",
   "execution_count": 1,
   "metadata": {},
   "outputs": [],
   "source": [
    "import numpy as np"
   ]
  },
  {
   "cell_type": "code",
   "execution_count": 21,
   "metadata": {},
   "outputs": [],
   "source": [
    "X = 2 * np.random.rand(100, 1)\n",
    "y = 4 + 3 * X + np.random.randn(100, 1)\n",
    "\n",
    "X_bias = np.c_[np.ones((100,1)),X]\n",
    "\n",
    "learning_rate = .1\n",
    "n_iter = 1000\n",
    "m = 100"
   ]
  },
  {
   "cell_type": "code",
   "execution_count": 23,
   "metadata": {},
   "outputs": [],
   "source": [
    "theta = np.random.randn(2, 1)\n",
    "\n",
    "for iteration in range(n_iter):\n",
    "    gradients = 2/m * X_bias.T.dot(X_bias.dot(theta) - y)\n",
    "    theta = theta - learning_rate * gradients"
   ]
  },
  {
   "cell_type": "code",
   "execution_count": 24,
   "metadata": {},
   "outputs": [
    {
     "name": "stdout",
     "output_type": "stream",
     "text": [
      "Optimal parameters (theta): [[3.90042659]\n",
      " [3.15877649]]\n"
     ]
    }
   ],
   "source": [
    "print(\"Optimal parameters (theta):\", theta)"
   ]
  },
  {
   "cell_type": "markdown",
   "metadata": {},
   "source": [
    "## 5. Learning Rate Tuning\n",
    "The learning rate 𝛼 controls the step size in each iteration of gradient descent. Choosing an appropriate learning rate is crucial for convergence.\n",
    "- A high learning rate may cause the algorithm to overshoot the optimal solution.\n",
    "- A low learning rate can lead to slow convergence.\n",
    "You can experiment with different learning rates to see their impact."
   ]
  },
  {
   "cell_type": "code",
   "execution_count": 25,
   "metadata": {},
   "outputs": [],
   "source": [
    "import matplotlib.pyplot as plt"
   ]
  },
  {
   "cell_type": "code",
   "execution_count": 26,
   "metadata": {},
   "outputs": [],
   "source": [
    "learning_rates = [0.01, 0.1, 0.5]\n",
    "n_iter = 500\n",
    "m = len(X_bias)\n",
    "theta_path = {}"
   ]
  },
  {
   "cell_type": "code",
   "execution_count": 34,
   "metadata": {},
   "outputs": [
    {
     "data": {
      "image/png": "[encoded data removed]",
      "text/plain": [
       "<Figure size 640x480 with 1 Axes>"
      ]
     },
     "metadata": {},
     "output_type": "display_data"
    }
   ],
   "source": [
    "for lr in learning_rates:\n",
    "    theta = np.random.randn(2,1)\n",
    "    theta_path[lr] = []\n",
    "    for i in range (n_iter):\n",
    "        gradients = 2/m * X_bias.T.dot(X_bias.dot(theta)-y)\n",
    "        theta = theta -lr*gradients\n",
    "        theta_path[lr].append(theta)\n",
    "\t\t\t\t\t\t\t\t\t\n",
    "    plt.plot([theta[0][0] for theta in theta_path[lr]], label=f\"Learning Rate {lr}\")\n"
   ]
  },
  {
   "cell_type": "markdown",
   "metadata": {},
   "source": [
    "## 6. Advanced Optimization Algorithms\n",
    "### 6.1 Momentum\n",
    "Momentum helps accelerate gradient descent in the relevant direction by adding a fraction of the previous update to the current update.\n",
    "### 6.2 RMSprop\n",
    "RMSprop adapts the learning rate for each parameter by dividing the learning rate by the root mean square of recent gradients\n",
    "### 6.3 Adam\n",
    "Adam (Adaptive Moment Estimation) combines the advantages of both RMSprop and Momentum. It keeps track of both the exponentially decaying average of past gradients and the squared gradients.\n",
    "Adam is widely used in deep learning due to its efficiency and adaptive learning rate properties.\n",
    "\n"
   ]
  }
 ],
 "metadata": {
  "kernelspec": {
   "display_name": "Python 3",
   "language": "python",
   "name": "python3"
  },
  "language_info": {
   "codemirror_mode": {
    "name": "ipython",
    "version": 3
   },
   "file_extension": ".py",
   "mimetype": "text/x-python",
   "name": "python",
   "nbconvert_exporter": "python",
   "pygments_lexer": "ipython3",
   "version": "3.8.0"
  }
 },
 "nbformat": 4,
 "nbformat_minor": 2
}
