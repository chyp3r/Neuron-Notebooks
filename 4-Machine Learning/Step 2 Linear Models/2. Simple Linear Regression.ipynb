{
 "cells": [
  {
   "cell_type": "markdown",
   "metadata": {},
   "source": [
    "# Introduction to Simple Linear Regression\n",
    "\n",
    "Simple Linear Regression is the most basic form of regression, used to model the relationship between two variables: one independent (predictor) and one dependent (target). The goal is to fit a linear equation to observed data that predicts the target variable.\n",
    "\n",
    "---\n",
    "\n",
    "## Table of Contents\n",
    "\n",
    "1. [What is Simple Linear Regression?](#1-what-is-simple-linear-regression)\n",
    "2. [Assumptions of Simple Linear Regression](#2-assumptions)\n",
    "3. [Simple Linear Regression Formula](#3-simple-linear-regression-formula)\n",
    "4. [Implementing Simple Linear Regression in Python](#4-implementing-simple-linear-regression-in-python)\n",
    "5. [Interpreting the Model](#5-interpreting-the-model)\n",
    "\n",
    "---"
   ]
  },
  {
   "cell_type": "markdown",
   "metadata": {},
   "source": [
    "## 1. What is Simple Linear Regression?\n",
    "\n",
    "Simple Linear Regression models the relationship between a single feature (x) and the target variable (y). It assumes the relationship is linear:\n",
    "\n",
    "**y = w₀ + w₁x + ε**\n",
    "\n",
    "Where:\n",
    "- **y**: the dependent variable (target)\n",
    "- **x**: the independent variable (predictor)\n",
    "- **w₀**: the intercept (bias term)\n",
    "- **w₁**: the slope (coefficient)\n",
    "- **ε**: the error term (residual)\n",
    "\n",
    "---"
   ]
  },
  {
   "cell_type": "markdown",
   "metadata": {},
   "source": [
    "## 2. Assumptions of Simple Linear Regression\n",
    "\n",
    "1. **Linearity**: The relationship between the independent and dependent variable is linear.\n",
    "2. **Independence**: The residuals (errors) are independent of each other.\n",
    "3. **Homoscedasticity**: The residuals have constant variance.\n",
    "4. **Normality**: The residuals are normally distributed.\n",
    "\n",
    "---"
   ]
  },
  {
   "cell_type": "markdown",
   "metadata": {},
   "source": [
    "## 3. Simple Linear Regression Formula\n",
    "\n",
    "In Simple Linear Regression, we find the best-fitting line using the formula:\n",
    "\n",
    "**y = w₀ + w₁x**\n",
    "\n",
    "The goal is to find the values of **w₀** (intercept) and **w₁** (slope) that minimize the sum of the squared residuals.\n",
    "\n",
    "---"
   ]
  },
  {
   "cell_type": "markdown",
   "metadata": {},
   "source": [
    "## 4. Implementing Simple Linear Regression in Python"
   ]
  },
  {
   "cell_type": "code",
   "execution_count": 25,
   "metadata": {},
   "outputs": [],
   "source": [
    "from sklearn.linear_model import LinearRegression\n",
    "from sklearn.datasets import make_regression\n",
    "from sklearn.model_selection import train_test_split\n",
    "\n",
    "X,y = make_regression(n_samples=1000,n_features=1)\n",
    "X_train,X_test,y_train,y_test = train_test_split(X,y,test_size=.3,random_state=42)\n",
    "\n",
    "model = LinearRegression()\n",
    "model.fit(X_train,y_train)\n",
    "\n",
    "y_pred = model.predict(X_test)"
   ]
  },
  {
   "cell_type": "markdown",
   "metadata": {},
   "source": [
    "## 5. Interpreting the Model"
   ]
  },
  {
   "cell_type": "code",
   "execution_count": 26,
   "metadata": {},
   "outputs": [
    {
     "name": "stdout",
     "output_type": "stream",
     "text": [
      "Intercept (w₀): 6.591949208711867e-17\n",
      "Coefficient (w₁): [6.93597456]\n",
      "Mean Squared Error (MSE): 1.0153460236165421e-30\n",
      "R² Score: 1.0\n"
     ]
    }
   ],
   "source": [
    "print(f\"Intercept (w₀): {model.intercept_}\")\n",
    "print(f\"Coefficient (w₁): {model.coef_}\")\n",
    "\n",
    "from sklearn.metrics import mean_squared_error, r2_score\n",
    "\n",
    "mse = mean_squared_error(y_test, y_pred)\n",
    "r2 = r2_score(y_test, y_pred)\n",
    "\n",
    "print(f\"Mean Squared Error (MSE): {mse}\")\n",
    "print(f\"R² Score: {r2}\")\n"
   ]
  },
  {
   "cell_type": "code",
   "execution_count": 27,
   "metadata": {},
   "outputs": [
    {
     "data": {
      "image/png": "[encoded data removed]",
      "text/plain": [
       "<Figure size 640x480 with 1 Axes>"
      ]
     },
     "metadata": {},
     "output_type": "display_data"
    }
   ],
   "source": [
    "import matplotlib.pyplot as plt\n",
    "plt.scatter(X_test,y_test,color=\"blue\")\n",
    "plt.plot(X_test,y_pred,color=\"red\")\n",
    "plt.show()"
   ]
  }
 ],
 "metadata": {
  "kernelspec": {
   "display_name": "Python 3",
   "language": "python",
   "name": "python3"
  },
  "language_info": {
   "codemirror_mode": {
    "name": "ipython",
    "version": 3
   },
   "file_extension": ".py",
   "mimetype": "text/x-python",
   "name": "python",
   "nbconvert_exporter": "python",
   "pygments_lexer": "ipython3",
   "version": "3.8.0"
  }
 },
 "nbformat": 4,
 "nbformat_minor": 2
}
