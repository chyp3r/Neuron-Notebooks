{
 "cells": [
  {
   "cell_type": "markdown",
   "metadata": {},
   "source": [
    "# Introduction to Logistic Regression\n",
    "\n",
    "Logistic Regression is a fundamental algorithm for classification tasks. Unlike Linear Regression, which is used for predicting continuous variables, Logistic Regression is used to predict categorical outcomes. The most common application is binary classification, where the goal is to classify observations into one of two classes.\n",
    "\n",
    "---\n",
    "\n",
    "## Table of Contents\n",
    "\n",
    "1. [What is Logistic Regression?](#1-what-is-logistic-regression)\n",
    "2. [Sigmoid Function](#2-sigmoid-function)\n",
    "3. [Logistic Regression Formula](#3-logistic-regression-formula)\n",
    "4. [Implementing Logistic Regression in Python](#4-implementing-logistic-regression-in-python)\n",
    "5. [Model Evaluation Metrics](#5-model-evaluation-metrics)\n",
    "\n",
    "---"
   ]
  },
  {
   "cell_type": "markdown",
   "metadata": {},
   "source": [
    "## 1. What is Logistic Regression?\n",
    "\n",
    "Logistic Regression is used for binary classification problems where the target variable is categorical (often 0 or 1). It uses a logistic (sigmoid) function to model the probability of a certain class.\n",
    "\n",
    "The key difference from Linear Regression is that the output is mapped to a probability value between 0 and 1 using the sigmoid function.\n",
    "\n",
    "---"
   ]
  },
  {
   "cell_type": "markdown",
   "metadata": {},
   "source": [
    "## 2. Sigmoid Function\n",
    "\n",
    "The logistic (or sigmoid) function is:\n",
    "\n",
    "**σ(z) = 1 / (1 + e^(-z))**\n",
    "\n",
    "Where:\n",
    "- **z**: The linear combination of inputs and coefficients (similar to Linear Regression)\n",
    "- **σ(z)**: The probability that the output belongs to a particular class.\n",
    "\n",
    "---"
   ]
  },
  {
   "cell_type": "markdown",
   "metadata": {},
   "source": [
    "## 3. Logistic Regression Formula\n",
    "\n",
    "Logistic Regression models the probability of the dependent variable **y** (for binary classification) as:\n",
    "\n",
    "**P(y = 1 | x) = σ(w₀ + w₁x₁ + w₂x₂ + ... + wₙxₙ)**\n",
    "\n",
    "Where:\n",
    "- **P(y = 1 | x)**: The probability of class 1 given input features **x**\n",
    "- **w₀, w₁, ..., wₙ**: The model parameters (intercept and coefficients)\n",
    "- **x₁, x₂, ..., xₙ**: The independent variables (features)\n",
    "\n",
    "The predicted class is then assigned based on a decision boundary, often set at 0.5.\n",
    "\n",
    "---"
   ]
  },
  {
   "cell_type": "markdown",
   "metadata": {},
   "source": [
    "## 4. Implementing Logistic Regression in Python"
   ]
  },
  {
   "cell_type": "code",
   "execution_count": 15,
   "metadata": {},
   "outputs": [],
   "source": [
    "from sklearn.linear_model import LogisticRegression\n",
    "from sklearn.datasets import make_classification\n",
    "from sklearn.model_selection import train_test_split\n",
    "from imblearn.over_sampling import SMOTE\n",
    "import numpy as np\n",
    "from scipy.stats import zscore\n",
    "import pandas as pd\n"
   ]
  },
  {
   "cell_type": "code",
   "execution_count": 20,
   "metadata": {},
   "outputs": [],
   "source": [
    "X,y = make_classification(n_samples=3000,n_classes=2)"
   ]
  },
  {
   "cell_type": "code",
   "execution_count": 25,
   "metadata": {},
   "outputs": [],
   "source": [
    "data = pd.DataFrame(data=X)\n",
    "data[\"target\"] = y\n",
    "\n",
    "z_scores = np.abs(zscore(X))\n",
    "data = data[(z_scores<3).all(axis = 1)]\n",
    "\n",
    "X = data.drop(columns=[\"target\"])\n",
    "y = data[\"target\"]\n",
    "\n",
    "X_train,X_test,y_train,y_test = train_test_split(X,y,test_size=.3,random_state=42)\n",
    "\n",
    "smote = SMOTE()\n",
    "X_smote,y_smote = smote.fit_resample(X_train,y_train)\n",
    "\n",
    "\n",
    "model = LogisticRegression()\n",
    "model.fit(X_smote,y_smote)\n",
    "\n",
    "y_pred = model.predict(X_test)"
   ]
  },
  {
   "cell_type": "markdown",
   "metadata": {},
   "source": [
    "## 5. Model Evaluation Metrics"
   ]
  },
  {
   "cell_type": "code",
   "execution_count": 26,
   "metadata": {},
   "outputs": [
    {
     "name": "stdout",
     "output_type": "stream",
     "text": [
      "Accuracy: 94.58%\n",
      "Confusion Matrix:\n",
      "[[391  36]\n",
      " [ 10 412]]\n",
      "Classification Report:\n",
      "              precision    recall  f1-score   support\n",
      "\n",
      "           0       0.98      0.92      0.94       427\n",
      "           1       0.92      0.98      0.95       422\n",
      "\n",
      "    accuracy                           0.95       849\n",
      "   macro avg       0.95      0.95      0.95       849\n",
      "weighted avg       0.95      0.95      0.95       849\n",
      "\n"
     ]
    },
    {
     "data": {
      "image/png": "[encoded data removed]",
      "text/plain": [
       "<Figure size 640x480 with 2 Axes>"
      ]
     },
     "metadata": {},
     "output_type": "display_data"
    }
   ],
   "source": [
    "from sklearn.metrics import accuracy_score,confusion_matrix,classification_report\n",
    "accuracy = accuracy_score(y_test, y_pred)\n",
    "print(f\"Accuracy: {accuracy * 100:.2f}%\")\n",
    "\n",
    "conf_matrix = confusion_matrix(y_test, y_pred)\n",
    "print(\"Confusion Matrix:\")\n",
    "print(conf_matrix)\n",
    "\n",
    "class_report = classification_report(y_test, y_pred)\n",
    "print(\"Classification Report:\")\n",
    "print(class_report)\n",
    "\n",
    "import seaborn as sns\n",
    "import matplotlib.pyplot as plt\n",
    "sns.heatmap(conf_matrix, annot=True, fmt='d', cmap='Blues')\n",
    "plt.title('Confusion Matrix')\n",
    "plt.ylabel('Actual')\n",
    "plt.xlabel('Predicted')\n",
    "plt.show()\n"
   ]
  }
 ],
 "metadata": {
  "kernelspec": {
   "display_name": "Python 3",
   "language": "python",
   "name": "python3"
  },
  "language_info": {
   "codemirror_mode": {
    "name": "ipython",
    "version": 3
   },
   "file_extension": ".py",
   "mimetype": "text/x-python",
   "name": "python",
   "nbconvert_exporter": "python",
   "pygments_lexer": "ipython3",
   "version": "3.8.0"
  }
 },
 "nbformat": 4,
 "nbformat_minor": 2
}
