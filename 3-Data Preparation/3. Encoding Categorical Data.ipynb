{
 "cells": [
  {
   "cell_type": "markdown",
   "metadata": {},
   "source": [
    "# Encoding Categorical Data\n",
    "\n",
    "Categorical data must be encoded into numerical formats for machine learning models to understand it. In this section, we will explore different ways to encode categorical data, from basic techniques like label encoding to more advanced techniques like one-hot encoding and target encoding.\n",
    "\n",
    "---\n",
    "\n",
    "## Table of Contents\n",
    "\n",
    "1. [Understanding Categorical Data](#1-understanding-categorical-data)\n",
    "2. [Label Encoding](#2-label-encoding)\n",
    "3. [One-Hot Encoding](#3-one-hot-encoding)\n",
    "4. [Advanced Encoding Techniques](#4-advanced-encoding-techniques)\n",
    "\n",
    "---"
   ]
  },
  {
   "cell_type": "markdown",
   "metadata": {},
   "source": [
    "## 1. Understanding Categorical Data\n",
    "\n",
    "First, let's identify the categorical variables in the dataset and understand their nature."
   ]
  },
  {
   "cell_type": "code",
   "execution_count": 2,
   "metadata": {},
   "outputs": [],
   "source": [
    "import pandas as pd\n",
    "\n",
    "data = pd.read_csv('categorical_data.csv')"
   ]
  },
  {
   "cell_type": "code",
   "execution_count": 3,
   "metadata": {},
   "outputs": [
    {
     "data": {
      "text/html": [
       "<div>\n",
       "<style scoped>\n",
       "    .dataframe tbody tr th:only-of-type {\n",
       "        vertical-align: middle;\n",
       "    }\n",
       "\n",
       "    .dataframe tbody tr th {\n",
       "        vertical-align: top;\n",
       "    }\n",
       "\n",
       "    .dataframe thead th {\n",
       "        text-align: right;\n",
       "    }\n",
       "</style>\n",
       "<table border=\"1\" class=\"dataframe\">\n",
       "  <thead>\n",
       "    <tr style=\"text-align: right;\">\n",
       "      <th></th>\n",
       "      <th>ID</th>\n",
       "      <th>Product_Name</th>\n",
       "      <th>Category</th>\n",
       "      <th>Region</th>\n",
       "      <th>Price</th>\n",
       "      <th>Sales</th>\n",
       "      <th>Discount_Percentage</th>\n",
       "      <th>Customer_Rating</th>\n",
       "    </tr>\n",
       "  </thead>\n",
       "  <tbody>\n",
       "    <tr>\n",
       "      <th>0</th>\n",
       "      <td>1</td>\n",
       "      <td>Product_1</td>\n",
       "      <td>Furniture</td>\n",
       "      <td>South</td>\n",
       "      <td>870.28</td>\n",
       "      <td>6451</td>\n",
       "      <td>13.86</td>\n",
       "      <td>4.5</td>\n",
       "    </tr>\n",
       "    <tr>\n",
       "      <th>1</th>\n",
       "      <td>2</td>\n",
       "      <td>Product_2</td>\n",
       "      <td>Books</td>\n",
       "      <td>South</td>\n",
       "      <td>525.13</td>\n",
       "      <td>7745</td>\n",
       "      <td>39.55</td>\n",
       "      <td>3.6</td>\n",
       "    </tr>\n",
       "    <tr>\n",
       "      <th>2</th>\n",
       "      <td>3</td>\n",
       "      <td>Product_3</td>\n",
       "      <td>Furniture</td>\n",
       "      <td>West</td>\n",
       "      <td>809.60</td>\n",
       "      <td>8295</td>\n",
       "      <td>43.45</td>\n",
       "      <td>2.6</td>\n",
       "    </tr>\n",
       "    <tr>\n",
       "      <th>3</th>\n",
       "      <td>4</td>\n",
       "      <td>Product_4</td>\n",
       "      <td>Books</td>\n",
       "      <td>South</td>\n",
       "      <td>953.33</td>\n",
       "      <td>7416</td>\n",
       "      <td>49.26</td>\n",
       "      <td>1.9</td>\n",
       "    </tr>\n",
       "    <tr>\n",
       "      <th>4</th>\n",
       "      <td>5</td>\n",
       "      <td>Product_5</td>\n",
       "      <td>Food</td>\n",
       "      <td>North</td>\n",
       "      <td>363.77</td>\n",
       "      <td>9391</td>\n",
       "      <td>19.13</td>\n",
       "      <td>2.0</td>\n",
       "    </tr>\n",
       "  </tbody>\n",
       "</table>\n",
       "</div>"
      ],
      "text/plain": [
       "   ID Product_Name   Category Region   Price  Sales  Discount_Percentage  \\\n",
       "0   1    Product_1  Furniture  South  870.28   6451                13.86   \n",
       "1   2    Product_2      Books  South  525.13   7745                39.55   \n",
       "2   3    Product_3  Furniture   West  809.60   8295                43.45   \n",
       "3   4    Product_4      Books  South  953.33   7416                49.26   \n",
       "4   5    Product_5       Food  North  363.77   9391                19.13   \n",
       "\n",
       "   Customer_Rating  \n",
       "0              4.5  \n",
       "1              3.6  \n",
       "2              2.6  \n",
       "3              1.9  \n",
       "4              2.0  "
      ]
     },
     "execution_count": 3,
     "metadata": {},
     "output_type": "execute_result"
    }
   ],
   "source": [
    "data.head()"
   ]
  },
  {
   "cell_type": "code",
   "execution_count": 4,
   "metadata": {},
   "outputs": [
    {
     "name": "stdout",
     "output_type": "stream",
     "text": [
      "Categorical columns in the dataset: ['Product_Name', 'Category', 'Region']\n"
     ]
    }
   ],
   "source": [
    "categorical_cols = data.select_dtypes(include=['object', 'category']).columns\n",
    "print(\"Categorical columns in the dataset:\", categorical_cols.tolist())"
   ]
  },
  {
   "cell_type": "markdown",
   "metadata": {},
   "source": [
    "## 2. Label Encoding"
   ]
  },
  {
   "cell_type": "markdown",
   "metadata": {},
   "source": [
    "Label encoding converts categories into numerical labels, where each category is assigned a unique integer. This method is suitable for ordinal data."
   ]
  },
  {
   "cell_type": "code",
   "execution_count": 5,
   "metadata": {},
   "outputs": [
    {
     "name": "stdout",
     "output_type": "stream",
     "text": [
      "Encoded 'Category' column:\n",
      "     Category  Category_Label\n",
      "0  Furniture               4\n",
      "1      Books               0\n",
      "2  Furniture               4\n",
      "3      Books               0\n",
      "4       Food               3\n"
     ]
    }
   ],
   "source": [
    "from sklearn.preprocessing import LabelEncoder\n",
    "\n",
    "label_encoder = LabelEncoder()\n",
    "data[\"Category_Label\"] = label_encoder.fit_transform(data[\"Category\"])\n",
    "\n",
    "print(\"Encoded 'Category' column:\\n\", data[['Category', 'Category_Label']].head())"
   ]
  },
  {
   "cell_type": "markdown",
   "metadata": {},
   "source": [
    "## 3. One-Hot Encoding"
   ]
  },
  {
   "cell_type": "markdown",
   "metadata": {},
   "source": [
    "One-hot encoding is often used for nominal (non-ordinal) categorical variables. It creates binary columns for each category."
   ]
  },
  {
   "cell_type": "code",
   "execution_count": 7,
   "metadata": {},
   "outputs": [
    {
     "data": {
      "text/html": [
       "<div>\n",
       "<style scoped>\n",
       "    .dataframe tbody tr th:only-of-type {\n",
       "        vertical-align: middle;\n",
       "    }\n",
       "\n",
       "    .dataframe tbody tr th {\n",
       "        vertical-align: top;\n",
       "    }\n",
       "\n",
       "    .dataframe thead th {\n",
       "        text-align: right;\n",
       "    }\n",
       "</style>\n",
       "<table border=\"1\" class=\"dataframe\">\n",
       "  <thead>\n",
       "    <tr style=\"text-align: right;\">\n",
       "      <th></th>\n",
       "      <th>ID</th>\n",
       "      <th>Product_Name</th>\n",
       "      <th>Region</th>\n",
       "      <th>Price</th>\n",
       "      <th>Sales</th>\n",
       "      <th>Discount_Percentage</th>\n",
       "      <th>Customer_Rating</th>\n",
       "      <th>Category_Label</th>\n",
       "      <th>One_Hot_Books</th>\n",
       "      <th>One_Hot_Clothing</th>\n",
       "      <th>One_Hot_Electronics</th>\n",
       "      <th>One_Hot_Food</th>\n",
       "      <th>One_Hot_Furniture</th>\n",
       "    </tr>\n",
       "  </thead>\n",
       "  <tbody>\n",
       "    <tr>\n",
       "      <th>0</th>\n",
       "      <td>1</td>\n",
       "      <td>Product_1</td>\n",
       "      <td>South</td>\n",
       "      <td>870.28</td>\n",
       "      <td>6451</td>\n",
       "      <td>13.86</td>\n",
       "      <td>4.5</td>\n",
       "      <td>4</td>\n",
       "      <td>False</td>\n",
       "      <td>False</td>\n",
       "      <td>False</td>\n",
       "      <td>False</td>\n",
       "      <td>True</td>\n",
       "    </tr>\n",
       "    <tr>\n",
       "      <th>1</th>\n",
       "      <td>2</td>\n",
       "      <td>Product_2</td>\n",
       "      <td>South</td>\n",
       "      <td>525.13</td>\n",
       "      <td>7745</td>\n",
       "      <td>39.55</td>\n",
       "      <td>3.6</td>\n",
       "      <td>0</td>\n",
       "      <td>True</td>\n",
       "      <td>False</td>\n",
       "      <td>False</td>\n",
       "      <td>False</td>\n",
       "      <td>False</td>\n",
       "    </tr>\n",
       "    <tr>\n",
       "      <th>2</th>\n",
       "      <td>3</td>\n",
       "      <td>Product_3</td>\n",
       "      <td>West</td>\n",
       "      <td>809.60</td>\n",
       "      <td>8295</td>\n",
       "      <td>43.45</td>\n",
       "      <td>2.6</td>\n",
       "      <td>4</td>\n",
       "      <td>False</td>\n",
       "      <td>False</td>\n",
       "      <td>False</td>\n",
       "      <td>False</td>\n",
       "      <td>True</td>\n",
       "    </tr>\n",
       "    <tr>\n",
       "      <th>3</th>\n",
       "      <td>4</td>\n",
       "      <td>Product_4</td>\n",
       "      <td>South</td>\n",
       "      <td>953.33</td>\n",
       "      <td>7416</td>\n",
       "      <td>49.26</td>\n",
       "      <td>1.9</td>\n",
       "      <td>0</td>\n",
       "      <td>True</td>\n",
       "      <td>False</td>\n",
       "      <td>False</td>\n",
       "      <td>False</td>\n",
       "      <td>False</td>\n",
       "    </tr>\n",
       "    <tr>\n",
       "      <th>4</th>\n",
       "      <td>5</td>\n",
       "      <td>Product_5</td>\n",
       "      <td>North</td>\n",
       "      <td>363.77</td>\n",
       "      <td>9391</td>\n",
       "      <td>19.13</td>\n",
       "      <td>2.0</td>\n",
       "      <td>3</td>\n",
       "      <td>False</td>\n",
       "      <td>False</td>\n",
       "      <td>False</td>\n",
       "      <td>True</td>\n",
       "      <td>False</td>\n",
       "    </tr>\n",
       "  </tbody>\n",
       "</table>\n",
       "</div>"
      ],
      "text/plain": [
       "   ID Product_Name Region   Price  Sales  Discount_Percentage  \\\n",
       "0   1    Product_1  South  870.28   6451                13.86   \n",
       "1   2    Product_2  South  525.13   7745                39.55   \n",
       "2   3    Product_3   West  809.60   8295                43.45   \n",
       "3   4    Product_4  South  953.33   7416                49.26   \n",
       "4   5    Product_5  North  363.77   9391                19.13   \n",
       "\n",
       "   Customer_Rating  Category_Label  One_Hot_Books  One_Hot_Clothing  \\\n",
       "0              4.5               4          False             False   \n",
       "1              3.6               0           True             False   \n",
       "2              2.6               4          False             False   \n",
       "3              1.9               0           True             False   \n",
       "4              2.0               3          False             False   \n",
       "\n",
       "   One_Hot_Electronics  One_Hot_Food  One_Hot_Furniture  \n",
       "0                False         False               True  \n",
       "1                False         False              False  \n",
       "2                False         False               True  \n",
       "3                False         False              False  \n",
       "4                False          True              False  "
      ]
     },
     "execution_count": 7,
     "metadata": {},
     "output_type": "execute_result"
    }
   ],
   "source": [
    "data_onehot = pd.get_dummies(data,columns=[\"Category\"],prefix=\"One_Hot\")\n",
    "\n",
    "data_onehot.head()"
   ]
  },
  {
   "cell_type": "markdown",
   "metadata": {},
   "source": [
    "## 4. Advanced Encoding Techniques"
   ]
  },
  {
   "cell_type": "markdown",
   "metadata": {},
   "source": [
    "Target encoding replaces categorical values with the mean of the target variable for each category. This method is useful for high-cardinality features."
   ]
  },
  {
   "cell_type": "code",
   "execution_count": 11,
   "metadata": {},
   "outputs": [
    {
     "name": "stdout",
     "output_type": "stream",
     "text": [
      "Target-encoded 'Category' column:\n",
      "     Category  Category_Target\n",
      "0  Furniture       520.646750\n",
      "1      Books       490.265000\n",
      "2  Furniture       520.646750\n",
      "3      Books       490.265000\n",
      "4       Food       463.772353\n"
     ]
    }
   ],
   "source": [
    "# Example of target encoding\n",
    "data['Category_Target'] = data.groupby('Category')['Price'].transform('mean')\n",
    "\n",
    "# Display the target-encoded column\n",
    "print(\"Target-encoded 'Category' column:\\n\", data[['Category', 'Category_Target']].head())"
   ]
  },
  {
   "cell_type": "markdown",
   "metadata": {},
   "source": [
    "Frequency encoding replaces categories with their occurrence count. It's simple and retains information about the distribution of categories."
   ]
  },
  {
   "cell_type": "code",
   "execution_count": 12,
   "metadata": {},
   "outputs": [
    {
     "name": "stdout",
     "output_type": "stream",
     "text": [
      "Frequency-encoded 'Category' column:\n",
      "     Category  Category_Frequency\n",
      "0  Furniture                  40\n",
      "1      Books                  40\n",
      "2  Furniture                  40\n",
      "3      Books                  40\n",
      "4       Food                  34\n"
     ]
    }
   ],
   "source": [
    "# Frequency encoding the 'Category' column\n",
    "data['Category_Frequency'] = data.groupby('Category')['Category'].transform('count')\n",
    "\n",
    "# Display the frequency-encoded column\n",
    "print(\"Frequency-encoded 'Category' column:\\n\", data[['Category', 'Category_Frequency']].head())\n"
   ]
  }
 ],
 "metadata": {
  "kernelspec": {
   "display_name": "Python 3",
   "language": "python",
   "name": "python3"
  },
  "language_info": {
   "codemirror_mode": {
    "name": "ipython",
    "version": 3
   },
   "file_extension": ".py",
   "mimetype": "text/x-python",
   "name": "python",
   "nbconvert_exporter": "python",
   "pygments_lexer": "ipython3",
   "version": "3.8.0"
  }
 },
 "nbformat": 4,
 "nbformat_minor": 2
}
