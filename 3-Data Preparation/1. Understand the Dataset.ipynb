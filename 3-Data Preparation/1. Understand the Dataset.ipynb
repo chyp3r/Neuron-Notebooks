{
 "cells": [
  {
   "cell_type": "markdown",
   "metadata": {},
   "source": [
    "# Understand the Dataset\n",
    "\n",
    "Before diving into data preprocessing, it's crucial to first understand the structure and contents of the dataset. This step involves loading the data, inspecting its features, data types, and checking for any missing values or inconsistencies.\n",
    "\n",
    "---\n",
    "\n",
    "## Table of Contents\n",
    "\n",
    "1. [Loading the Dataset](#1-loading-the-dataset)\n",
    "2. [Inspecting the Dataset](#2-inspecting-the-dataset)\n",
    "3. [Understanding Feature Types](#3-understanding-feature-types)\n",
    "4. [Checking for Missing Values](#4-checking-for-missing-values)\n",
    "5. [Exploring Data Distributions](#5-exploring-data-distributions)\n",
    "6. [Basic Statistics of the Dataset](#6-basic-statistics-of-the-dataset)\n",
    "\n",
    "---"
   ]
  },
  {
   "cell_type": "markdown",
   "metadata": {},
   "source": [
    "## 1. Loading the Dataset\n",
    "\n",
    "In this section, we will load the dataset using `pandas` and take a first look at its structure."
   ]
  },
  {
   "cell_type": "code",
   "execution_count": 1,
   "metadata": {},
   "outputs": [
    {
     "data": {
      "text/html": [
       "<div>\n",
       "<style scoped>\n",
       "    .dataframe tbody tr th:only-of-type {\n",
       "        vertical-align: middle;\n",
       "    }\n",
       "\n",
       "    .dataframe tbody tr th {\n",
       "        vertical-align: top;\n",
       "    }\n",
       "\n",
       "    .dataframe thead th {\n",
       "        text-align: right;\n",
       "    }\n",
       "</style>\n",
       "<table border=\"1\" class=\"dataframe\">\n",
       "  <thead>\n",
       "    <tr style=\"text-align: right;\">\n",
       "      <th></th>\n",
       "      <th>Name</th>\n",
       "      <th>Age</th>\n",
       "      <th>City</th>\n",
       "      <th>Date</th>\n",
       "      <th>Salary</th>\n",
       "    </tr>\n",
       "  </thead>\n",
       "  <tbody>\n",
       "    <tr>\n",
       "      <th>0</th>\n",
       "      <td>Alice</td>\n",
       "      <td>24.0</td>\n",
       "      <td>New York</td>\n",
       "      <td>2023-01-01</td>\n",
       "      <td>70000.0</td>\n",
       "    </tr>\n",
       "    <tr>\n",
       "      <th>1</th>\n",
       "      <td>Bob</td>\n",
       "      <td>27.0</td>\n",
       "      <td>Los Angeles</td>\n",
       "      <td>2023-02-15</td>\n",
       "      <td>80000.0</td>\n",
       "    </tr>\n",
       "    <tr>\n",
       "      <th>2</th>\n",
       "      <td>Charlie</td>\n",
       "      <td>22.0</td>\n",
       "      <td>Chicago</td>\n",
       "      <td>2023-03-22</td>\n",
       "      <td>50000.0</td>\n",
       "    </tr>\n",
       "    <tr>\n",
       "      <th>3</th>\n",
       "      <td>David</td>\n",
       "      <td>NaN</td>\n",
       "      <td>Houston</td>\n",
       "      <td>2023-04-05</td>\n",
       "      <td>120000.0</td>\n",
       "    </tr>\n",
       "    <tr>\n",
       "      <th>4</th>\n",
       "      <td>Eve</td>\n",
       "      <td>29.0</td>\n",
       "      <td>Phoenix</td>\n",
       "      <td>2023-05-10</td>\n",
       "      <td>NaN</td>\n",
       "    </tr>\n",
       "  </tbody>\n",
       "</table>\n",
       "</div>"
      ],
      "text/plain": [
       "      Name   Age         City        Date    Salary\n",
       "0    Alice  24.0     New York  2023-01-01   70000.0\n",
       "1      Bob  27.0  Los Angeles  2023-02-15   80000.0\n",
       "2  Charlie  22.0      Chicago  2023-03-22   50000.0\n",
       "3    David   NaN      Houston  2023-04-05  120000.0\n",
       "4      Eve  29.0      Phoenix  2023-05-10       NaN"
      ]
     },
     "execution_count": 1,
     "metadata": {},
     "output_type": "execute_result"
    }
   ],
   "source": [
    "import pandas as pd\n",
    "\n",
    "# Load the dataset (replace 'data.csv' with the actual file path)\n",
    "data = pd.read_csv('data.csv')\n",
    "\n",
    "data.head()  "
   ]
  },
  {
   "cell_type": "markdown",
   "metadata": {},
   "source": [
    "## 2. Inspecting the Dataset"
   ]
  },
  {
   "cell_type": "code",
   "execution_count": 2,
   "metadata": {},
   "outputs": [
    {
     "name": "stdout",
     "output_type": "stream",
     "text": [
      "<class 'pandas.core.frame.DataFrame'>\n",
      "RangeIndex: 5 entries, 0 to 4\n",
      "Data columns (total 5 columns):\n",
      " #   Column  Non-Null Count  Dtype  \n",
      "---  ------  --------------  -----  \n",
      " 0   Name    5 non-null      object \n",
      " 1   Age     4 non-null      float64\n",
      " 2   City    5 non-null      object \n",
      " 3   Date    5 non-null      object \n",
      " 4   Salary  4 non-null      float64\n",
      "dtypes: float64(2), object(3)\n",
      "memory usage: 328.0+ bytes\n"
     ]
    }
   ],
   "source": [
    "data.info()"
   ]
  },
  {
   "cell_type": "code",
   "execution_count": 3,
   "metadata": {},
   "outputs": [
    {
     "name": "stdout",
     "output_type": "stream",
     "text": [
      "Columns in the dataset: ['Name', 'Age', 'City', 'Date', 'Salary']\n"
     ]
    }
   ],
   "source": [
    "print(\"Columns in the dataset:\",data.columns.tolist())"
   ]
  },
  {
   "cell_type": "markdown",
   "metadata": {},
   "source": [
    "## 3. Understanding Feature Types"
   ]
  },
  {
   "cell_type": "code",
   "execution_count": 4,
   "metadata": {},
   "outputs": [
    {
     "name": "stdout",
     "output_type": "stream",
     "text": [
      "Numeric columns: ['Age', 'Salary']\n",
      "Categorical columns: ['Name', 'City', 'Date']\n"
     ]
    }
   ],
   "source": [
    "num_cols = data.select_dtypes(include=[\"int64\",\"float64\"]).columns\n",
    "print(\"Numeric columns:\",num_cols.tolist())\n",
    "\n",
    "cat_cols = data.select_dtypes(include=[\"object\",\"category\"]).columns\n",
    "print(\"Categorical columns:\",cat_cols.tolist())"
   ]
  },
  {
   "cell_type": "markdown",
   "metadata": {},
   "source": [
    "## 4. Checking for Missing Values"
   ]
  },
  {
   "cell_type": "code",
   "execution_count": 5,
   "metadata": {},
   "outputs": [
    {
     "name": "stdout",
     "output_type": "stream",
     "text": [
      "Missing value in each column:\n",
      " Name      0\n",
      "Age       1\n",
      "City      0\n",
      "Date      0\n",
      "Salary    1\n",
      "dtype: int64\n"
     ]
    }
   ],
   "source": [
    "missing_data = data.isnull().sum()\n",
    "print(\"Missing value in each column:\\n\",missing_data)"
   ]
  },
  {
   "cell_type": "code",
   "execution_count": 6,
   "metadata": {},
   "outputs": [
    {
     "data": {
      "image/png": "[encoded data removed]",
      "text/plain": [
       "<Figure size 640x480 with 1 Axes>"
      ]
     },
     "metadata": {},
     "output_type": "display_data"
    }
   ],
   "source": [
    "import seaborn as sns\n",
    "import matplotlib.pyplot as plt\n",
    "\n",
    "sns.heatmap(data.isnull(),cbar=False)\n",
    "plt.title(\"Missing Data Heatmap\")\n",
    "plt.show()"
   ]
  },
  {
   "cell_type": "markdown",
   "metadata": {},
   "source": [
    "## 5. Exploring Data Distributions"
   ]
  },
  {
   "cell_type": "markdown",
   "metadata": {},
   "source": [
    "Histograms are used for numerical columns, and count plots for categorical columns."
   ]
  },
  {
   "cell_type": "code",
   "execution_count": 7,
   "metadata": {},
   "outputs": [
    {
     "data": {
      "image/png": "[encoded data removed]",
      "text/plain": [
       "<Figure size 640x480 with 1 Axes>"
      ]
     },
     "metadata": {},
     "output_type": "display_data"
    },
    {
     "data": {
      "image/png": "[encoded data removed]",
      "text/plain": [
       "<Figure size 640x480 with 1 Axes>"
      ]
     },
     "metadata": {},
     "output_type": "display_data"
    }
   ],
   "source": [
    "# Plot distribution of a numerical column (replace 'column_name' with an actual column name)\n",
    "data[\"Age\"].hist(bins=20)\n",
    "plt.title(\"Distribution of Numerical Feature\")\n",
    "plt.show()\n",
    "\n",
    "# Count plot for a categorical column\n",
    "sns.countplot(x=\"City\", data=data)\n",
    "plt.title(\"Distribution of Categorical Feature\")\n",
    "plt.show()\n"
   ]
  },
  {
   "cell_type": "markdown",
   "metadata": {},
   "source": [
    "## 6. Basic Statistics of the Dataset"
   ]
  },
  {
   "cell_type": "markdown",
   "metadata": {},
   "source": [
    "The describe() method provides insight into the distribution, mean, standard deviation, and outliers."
   ]
  },
  {
   "cell_type": "code",
   "execution_count": 8,
   "metadata": {},
   "outputs": [
    {
     "name": "stdout",
     "output_type": "stream",
     "text": [
      "             Age         Salary\n",
      "count   4.000000       4.000000\n",
      "mean   25.500000   80000.000000\n",
      "std     3.109126   29439.202888\n",
      "min    22.000000   50000.000000\n",
      "25%    23.500000   65000.000000\n",
      "50%    25.500000   75000.000000\n",
      "75%    27.500000   90000.000000\n",
      "max    29.000000  120000.000000\n",
      "         Name      City        Date\n",
      "count       5         5           5\n",
      "unique      5         5           5\n",
      "top     Alice  New York  2023-01-01\n",
      "freq        1         1           1\n"
     ]
    }
   ],
   "source": [
    "print(data.describe())\n",
    "print(data[cat_cols].describe())"
   ]
  }
 ],
 "metadata": {
  "kernelspec": {
   "display_name": "Python 3",
   "language": "python",
   "name": "python3"
  },
  "language_info": {
   "codemirror_mode": {
    "name": "ipython",
    "version": 3
   },
   "file_extension": ".py",
   "mimetype": "text/x-python",
   "name": "python",
   "nbconvert_exporter": "python",
   "pygments_lexer": "ipython3",
   "version": "3.8.0"
  }
 },
 "nbformat": 4,
 "nbformat_minor": 2
}
