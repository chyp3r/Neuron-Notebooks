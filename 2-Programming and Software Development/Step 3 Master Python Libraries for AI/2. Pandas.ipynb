{
 "cells": [
  {
   "cell_type": "markdown",
   "metadata": {},
   "source": [
    "# Pandas Comprehensive Learning\n",
    "\n",
    "This notebook will guide you through the `pandas` library, a powerful tool for data manipulation and analysis. We'll start from the basics and advance to more complex operations.\n",
    "\n",
    "---\n",
    "\n",
    "## Table of Contents\n",
    "1. [Introduction to Pandas](#introduction-to-pandas)\n",
    "2. [Creating DataFrames and Series](#creating-dataframes-and-series)\n",
    "3. [Basic DataFrame Operations](#basic-dataframe-operations)\n",
    "4. [Indexing and Selecting Data](#indexing-and-selecting-data)\n",
    "5. [Data Cleaning](#data-cleaning)\n",
    "6. [Handling Missing Data](#handling-missing-data)\n",
    "7. [Merging and Joining DataFrames](#merging-and-joining-dataframes)\n",
    "8. [Grouping and Aggregating Data](#grouping-and-aggregating-data)\n",
    "9. [Visualization with Pandas](#visualization-with-pandas)\n",
    "10. [File I/O: Reading and Writing Data](file-operations)\n",
    "11. [Exercises](#exercises)\n",
    "\n",
    "---"
   ]
  },
  {
   "cell_type": "markdown",
   "metadata": {},
   "source": [
    "## Introduction to Pandas\n",
    "\n",
    "`pandas` is a fast, powerful, and flexible open-source data analysis and manipulation library built on top of Python.\n",
    "\n",
    "```python\n",
    "import pandas as pd  # Importing pandas library\n",
    "import numpy as np   # Importing numpy for array operations\n"
   ]
  },
  {
   "cell_type": "code",
   "execution_count": 1,
   "metadata": {},
   "outputs": [],
   "source": [
    "import pandas as pd\n",
    "import numpy as np"
   ]
  },
  {
   "cell_type": "markdown",
   "metadata": {},
   "source": [
    "## Creating DataFrames and Series"
   ]
  },
  {
   "cell_type": "markdown",
   "metadata": {},
   "source": [
    "A Series is a one-dimensional labeled array capable of holding any data type."
   ]
  },
  {
   "cell_type": "code",
   "execution_count": 2,
   "metadata": {},
   "outputs": [
    {
     "name": "stdout",
     "output_type": "stream",
     "text": [
      "0    10\n",
      "1    20\n",
      "2    30\n",
      "3    40\n",
      "4    50\n",
      "dtype: int64\n"
     ]
    }
   ],
   "source": [
    "my_series = pd.Series([10,20,30,40,50])\n",
    "print(my_series)"
   ]
  },
  {
   "cell_type": "markdown",
   "metadata": {},
   "source": [
    "A DataFrame is a two-dimensional, size-mutable, and potentially heterogeneous data structure."
   ]
  },
  {
   "cell_type": "code",
   "execution_count": 3,
   "metadata": {},
   "outputs": [
    {
     "name": "stdout",
     "output_type": "stream",
     "text": [
      "    Name  Age\n",
      "0  Alice   24\n",
      "1    Bob   27\n"
     ]
    }
   ],
   "source": [
    "data = {\"Name\":[\"Alice\",\"Bob\"],\n",
    "        \"Age\":[24,27]}\n",
    "df = pd.DataFrame(data)\n",
    "print(df)"
   ]
  },
  {
   "cell_type": "markdown",
   "metadata": {},
   "source": [
    "You can load data into a DataFrame from various file formats, such as CSV, Excel, SQL, etc."
   ]
  },
  {
   "cell_type": "code",
   "execution_count": 4,
   "metadata": {},
   "outputs": [],
   "source": [
    "data = pd.read_csv('data.csv')  # Replace 'data.csv' with the actual path to your file"
   ]
  },
  {
   "cell_type": "markdown",
   "metadata": {},
   "source": [
    "## Basic DataFrame Operations"
   ]
  },
  {
   "cell_type": "code",
   "execution_count": 5,
   "metadata": {},
   "outputs": [
    {
     "name": "stdout",
     "output_type": "stream",
     "text": [
      "      Name  Age         City        Date  Salary\n",
      "0    Alice   24     New York  2023-01-01   70000\n",
      "1      Bob   27  Los Angeles  2023-02-15   80000\n",
      "2  Charlie   22      Chicago  2023-03-22   50000\n",
      "3    David   32      Houston  2023-04-05  120000\n",
      "4      Eve   29      Phoenix  2023-05-10   95000\n"
     ]
    }
   ],
   "source": [
    "print(data.head())"
   ]
  },
  {
   "cell_type": "code",
   "execution_count": 6,
   "metadata": {},
   "outputs": [
    {
     "name": "stdout",
     "output_type": "stream",
     "text": [
      "<class 'pandas.core.frame.DataFrame'>\n",
      "RangeIndex: 5 entries, 0 to 4\n",
      "Data columns (total 5 columns):\n",
      " #   Column  Non-Null Count  Dtype \n",
      "---  ------  --------------  ----- \n",
      " 0   Name    5 non-null      object\n",
      " 1   Age     5 non-null      int64 \n",
      " 2   City    5 non-null      object\n",
      " 3   Date    5 non-null      object\n",
      " 4   Salary  5 non-null      int64 \n",
      "dtypes: int64(2), object(3)\n",
      "memory usage: 328.0+ bytes\n",
      "None\n"
     ]
    }
   ],
   "source": [
    "print(data.info())"
   ]
  },
  {
   "cell_type": "code",
   "execution_count": 7,
   "metadata": {},
   "outputs": [
    {
     "name": "stdout",
     "output_type": "stream",
     "text": [
      "(5, 5)\n"
     ]
    }
   ],
   "source": [
    "print(data.shape)"
   ]
  },
  {
   "cell_type": "code",
   "execution_count": 8,
   "metadata": {},
   "outputs": [
    {
     "name": "stdout",
     "output_type": "stream",
     "text": [
      "             Age         Salary\n",
      "count   5.000000       5.000000\n",
      "mean   26.800000   83000.000000\n",
      "std     3.962323   26362.852653\n",
      "min    22.000000   50000.000000\n",
      "25%    24.000000   70000.000000\n",
      "50%    27.000000   80000.000000\n",
      "75%    29.000000   95000.000000\n",
      "max    32.000000  120000.000000\n"
     ]
    }
   ],
   "source": [
    "print(data.describe())"
   ]
  },
  {
   "cell_type": "markdown",
   "metadata": {},
   "source": [
    "## Indexing and Selecting Data"
   ]
  },
  {
   "cell_type": "code",
   "execution_count": 9,
   "metadata": {},
   "outputs": [
    {
     "name": "stdout",
     "output_type": "stream",
     "text": [
      "0    24\n",
      "1    27\n",
      "2    22\n",
      "3    32\n",
      "4    29\n",
      "Name: Age, dtype: int64\n"
     ]
    }
   ],
   "source": [
    "ages = data[\"Age\"]\n",
    "print(ages)"
   ]
  },
  {
   "cell_type": "code",
   "execution_count": 10,
   "metadata": {},
   "outputs": [
    {
     "name": "stdout",
     "output_type": "stream",
     "text": [
      "Name           Alice\n",
      "Age               24\n",
      "City        New York\n",
      "Date      2023-01-01\n",
      "Salary         70000\n",
      "Name: 0, dtype: object\n"
     ]
    }
   ],
   "source": [
    "row_0 = data.loc[0]\n",
    "print(row_0)"
   ]
  },
  {
   "cell_type": "code",
   "execution_count": 11,
   "metadata": {},
   "outputs": [
    {
     "name": "stdout",
     "output_type": "stream",
     "text": [
      "    Name  Age         City        Date  Salary\n",
      "1    Bob   27  Los Angeles  2023-02-15   80000\n",
      "3  David   32      Houston  2023-04-05  120000\n",
      "4    Eve   29      Phoenix  2023-05-10   95000\n"
     ]
    }
   ],
   "source": [
    "adults = data[data[\"Age\"] > 25]\n",
    "print(adults)"
   ]
  },
  {
   "cell_type": "code",
   "execution_count": 12,
   "metadata": {},
   "outputs": [
    {
     "name": "stdout",
     "output_type": "stream",
     "text": [
      "      Name  Age         City        Date  Salary\n",
      "0    Alice   24          NYC  2023-01-01   70000\n",
      "1      Bob   27  Los Angeles  2023-02-15   80000\n",
      "2  Charlie   22      Chicago  2023-03-22   50000\n",
      "3    David   32      Houston  2023-04-05  120000\n",
      "4      Eve   29      Phoenix  2023-05-10   95000\n"
     ]
    }
   ],
   "source": [
    "data[\"City\"] = data[\"City\"].replace({\"New York\":\"NYC\"})\n",
    "print(data)"
   ]
  },
  {
   "cell_type": "markdown",
   "metadata": {},
   "source": [
    "## Handling Missing Data"
   ]
  },
  {
   "cell_type": "code",
   "execution_count": 13,
   "metadata": {},
   "outputs": [
    {
     "name": "stdout",
     "output_type": "stream",
     "text": [
      "Name      0\n",
      "Age       0\n",
      "City      0\n",
      "Date      0\n",
      "Salary    0\n",
      "dtype: int64\n"
     ]
    }
   ],
   "source": [
    "print(data.isnull().sum())"
   ]
  },
  {
   "cell_type": "code",
   "execution_count": 14,
   "metadata": {},
   "outputs": [],
   "source": [
    "data['Age'].fillna(value=0, inplace=True)  # Replace NaNs in 'Years' with 0"
   ]
  },
  {
   "cell_type": "code",
   "execution_count": 15,
   "metadata": {},
   "outputs": [],
   "source": [
    "data['City'].dropna(inplace=True)  # Delete NaN rows or cols acording to axis parameter\n"
   ]
  },
  {
   "cell_type": "markdown",
   "metadata": {},
   "source": [
    "## Merging and Joining DataFrames"
   ]
  },
  {
   "cell_type": "code",
   "execution_count": 16,
   "metadata": {},
   "outputs": [
    {
     "name": "stdout",
     "output_type": "stream",
     "text": [
      "  key  val1  val2\n",
      "0   A   1.0   4.0\n",
      "1   B   2.0   5.0\n",
      "2   C   3.0   NaN\n",
      "3   D   NaN   6.0\n"
     ]
    }
   ],
   "source": [
    "df1 = pd.DataFrame({'key': ['A', 'B', 'C'], 'val1': [1, 2, 3]})\n",
    "df2 = pd.DataFrame({'key': ['A', 'B', 'D'], 'val2': [4, 5, 6]})\n",
    "merged_df = pd.merge(df1,df2,on=\"key\",how=\"outer\")\n",
    "print(merged_df)"
   ]
  },
  {
   "cell_type": "markdown",
   "metadata": {},
   "source": [
    "## Grouping and Aggregating Data"
   ]
  },
  {
   "cell_type": "code",
   "execution_count": 17,
   "metadata": {},
   "outputs": [
    {
     "name": "stdout",
     "output_type": "stream",
     "text": [
      "City\n",
      "Chicago        22.0\n",
      "Houston        32.0\n",
      "Los Angeles    27.0\n",
      "NYC            24.0\n",
      "Phoenix        29.0\n",
      "Name: Age, dtype: float64\n"
     ]
    }
   ],
   "source": [
    "grouped = data.groupby(\"City\")[\"Age\"].mean()\n",
    "print(grouped)"
   ]
  },
  {
   "cell_type": "markdown",
   "metadata": {},
   "source": [
    "## Visualization with Pandas"
   ]
  },
  {
   "cell_type": "code",
   "execution_count": 18,
   "metadata": {},
   "outputs": [
    {
     "data": {
      "text/plain": [
       "<Axes: title={'center': 'Distribution of Years'}, ylabel='Frequency'>"
      ]
     },
     "execution_count": 18,
     "metadata": {},
     "output_type": "execute_result"
    },
    {
     "data": {
      "image/png": "[encoded data removed]",
      "text/plain": [
       "<Figure size 640x480 with 1 Axes>"
      ]
     },
     "metadata": {},
     "output_type": "display_data"
    }
   ],
   "source": [
    "data[\"Age\"].plot(kind=\"hist\",title=\"Distribution of Years\")"
   ]
  },
  {
   "cell_type": "markdown",
   "metadata": {},
   "source": [
    "## File Operations"
   ]
  },
  {
   "cell_type": "code",
   "execution_count": null,
   "metadata": {},
   "outputs": [],
   "source": [
    "data.to_csv('output.csv', index=False)"
   ]
  },
  {
   "cell_type": "code",
   "execution_count": null,
   "metadata": {},
   "outputs": [],
   "source": [
    "df_excel = pd.read_excel('data.xlsx')"
   ]
  },
  {
   "cell_type": "markdown",
   "metadata": {},
   "source": [
    "## Exercises"
   ]
  },
  {
   "cell_type": "markdown",
   "metadata": {},
   "source": [
    "Exercise 1: Basic DataFrame Operations\n",
    "- Load a CSV file into a DataFrame.\n",
    "- Display the first 10 rows of the DataFrame.\n",
    "- Get a summary of statistics for the numeric columns.\n",
    "\n",
    "Exercise 2: Indexing and Selecting Data\n",
    "- Select a subset of rows where a certain condition is met (e.g., Age > 30).\n",
    "- Select specific columns from the DataFrame.\n",
    "\n",
    "Exercise 3: Grouping and Aggregation\n",
    "- Group the data by a categorical column and compute the mean for each group.\n",
    "\n",
    "Exercise 4: Handling Missing Data\n",
    "- Check for missing data and fill it using appropriate methods (e.g., filling with the mean or median).\n"
   ]
  }
 ],
 "metadata": {
  "kernelspec": {
   "display_name": "Python 3",
   "language": "python",
   "name": "python3"
  },
  "language_info": {
   "codemirror_mode": {
    "name": "ipython",
    "version": 3
   },
   "file_extension": ".py",
   "mimetype": "text/x-python",
   "name": "python",
   "nbconvert_exporter": "python",
   "pygments_lexer": "ipython3",
   "version": "3.8.0"
  }
 },
 "nbformat": 4,
 "nbformat_minor": 2
}
