{
 "cells": [
  {
   "cell_type": "markdown",
   "metadata": {},
   "source": [
    "# Comprehensive NumPy Education\n",
    "\n",
    "This notebook will take you from the basics to advanced topics in `NumPy`, with detailed explanations and examples.\n",
    "\n",
    "## Table of Contents\n",
    "1. [Introduction to NumPy](#introduction-to-numpy)\n",
    "2. [Array Creation](#array-creation)\n",
    "3. [Array Operations](#array-operations)\n",
    "4. [Indexing and Slicing](#indexing-and-slicing)\n",
    "5. [Broadcasting](#broadcasting)\n",
    "6. [Mathematical and Statistical Functions](#mathematical-and-statistical-functions)\n",
    "7. [Linear Algebra Operations](#linear-algebra-operations)\n",
    "8. [Random Number Generation](#random-number-generation)\n",
    "9. [Memory Management and Performance](#memory-management-and-performance)\n",
    "10. [File I/O and Data Persistence](#file-io-and-data-persistence)\n",
    "11. [Advanced Applications and Use Cases](#advanced-applications-and-use-cases)\n",
    "12. [Exercises](#exercises)"
   ]
  },
  {
   "cell_type": "markdown",
   "metadata": {},
   "source": [
    "## Introduction to NumPy\n",
    "\n",
    "`Numpy` (Numerical Python) is a fundamental library for numerical computing in Python. It provides support for arrays, matrices, and a wide range of mathematical functions to operate on these data structures."
   ]
  },
  {
   "cell_type": "code",
   "execution_count": 1,
   "metadata": {},
   "outputs": [],
   "source": [
    "import numpy as np"
   ]
  },
  {
   "cell_type": "markdown",
   "metadata": {},
   "source": [
    "## Array Creation"
   ]
  },
  {
   "cell_type": "code",
   "execution_count": 5,
   "metadata": {},
   "outputs": [
    {
     "name": "stdout",
     "output_type": "stream",
     "text": [
      "1D Array: [1 2 3 4 5]\n",
      "2D Array:\n",
      " [[1 2 3]\n",
      " [4 5 6]]\n"
     ]
    }
   ],
   "source": [
    "array_1d = np.array([1,2,3,4,5])\n",
    "print(\"1D Array:\",array_1d)\n",
    "\n",
    "array_2d = np.array([[1,2,3],[4,5,6]])\n",
    "print(\"2D Array:\\n\",array_2d)"
   ]
  },
  {
   "cell_type": "code",
   "execution_count": 6,
   "metadata": {},
   "outputs": [
    {
     "name": "stdout",
     "output_type": "stream",
     "text": [
      "Zeros Array:\n",
      " [[0. 0. 0.]\n",
      " [0. 0. 0.]]\n",
      "Ones Array:\n",
      " [[1. 1.]\n",
      " [1. 1.]\n",
      " [1. 1.]]\n",
      "Range Array: [0 1 2 3 4 5 6 7 8 9]\n",
      "Linspace Array: [0.   0.25 0.5  0.75 1.  ]\n"
     ]
    }
   ],
   "source": [
    "zeros_array = np.zeros((2,3))\n",
    "print(\"Zeros Array:\\n\",zeros_array)\n",
    "\n",
    "ones_array = np.ones((3,2))\n",
    "print(\"Ones Array:\\n\",ones_array)\n",
    "\n",
    "range_array = np.arange(10)\n",
    "print(\"Range Array:\",range_array)\n",
    "\n",
    "linspace_array = np.linspace(0,1,5)\n",
    "print(\"Linspace Array:\",linspace_array)"
   ]
  },
  {
   "cell_type": "code",
   "execution_count": 11,
   "metadata": {},
   "outputs": [
    {
     "name": "stdout",
     "output_type": "stream",
     "text": [
      "Custom Data Type Array:\n",
      " [(1, 2. , 'Hello') (3, 4.5, 'World')]\n"
     ]
    }
   ],
   "source": [
    "custom_dtype_array = np.array([(1,2.0,\"Hello\"),(3,4.5,\"World\")],dtype=[(\"id\",\"i4\"),(\"value\",\"f4\"),(\"text\",\"U10\")])\n",
    "print(\"Custom Data Type Array:\\n\",custom_dtype_array)"
   ]
  },
  {
   "cell_type": "markdown",
   "metadata": {},
   "source": [
    "## Array Operations"
   ]
  },
  {
   "cell_type": "code",
   "execution_count": 15,
   "metadata": {},
   "outputs": [
    {
     "name": "stdout",
     "output_type": "stream",
     "text": [
      "Sum Array [11 12 13 14]\n",
      "Product Array: [2 4 6 8]\n"
     ]
    }
   ],
   "source": [
    "array = np.array([1,2,3,4])\n",
    "sum_array = array +10\n",
    "print(\"Sum Array\",sum_array)\n",
    "\n",
    "prod_array = array*2\n",
    "print(\"Product Array:\",prod_array)"
   ]
  },
  {
   "cell_type": "code",
   "execution_count": 16,
   "metadata": {},
   "outputs": [
    {
     "name": "stdout",
     "output_type": "stream",
     "text": [
      "Mean: 2.5\n",
      "Median: 2.5\n",
      "Standard Deviation 1.118033988749895\n"
     ]
    }
   ],
   "source": [
    "mean_value = np.mean(array)\n",
    "median_value = np.median(array)\n",
    "std_dev_value = np.std(array)\n",
    "\n",
    "print(\"Mean:\", mean_value)\n",
    "print(\"Median:\",median_value)\n",
    "print(\"Standard Deviation\",std_dev_value)"
   ]
  },
  {
   "cell_type": "code",
   "execution_count": 17,
   "metadata": {},
   "outputs": [
    {
     "name": "stdout",
     "output_type": "stream",
     "text": [
      "Sum of all elements: 21\n",
      "Min value: 1\n",
      "Max value: 6\n"
     ]
    }
   ],
   "source": [
    "array_2d = np.array([[1, 2, 3], [4, 5, 6]])\n",
    "sum_all = np.sum(array_2d)\n",
    "min_value = np.min(array_2d)\n",
    "max_value = np.max(array_2d)\n",
    "\n",
    "print(\"Sum of all elements:\", sum_all)\n",
    "print(\"Min value:\", min_value)\n",
    "print(\"Max value:\", max_value)"
   ]
  },
  {
   "cell_type": "markdown",
   "metadata": {},
   "source": [
    "## Indexing and Slicing"
   ]
  },
  {
   "cell_type": "code",
   "execution_count": 19,
   "metadata": {},
   "outputs": [
    {
     "name": "stdout",
     "output_type": "stream",
     "text": [
      "Sliced 1D Array: [2 3 4]\n",
      "2D Array:\n",
      " [[1 2 3]\n",
      " [4 5 6]]\n",
      "Sliced 2D Array:\n",
      " [2 5]\n"
     ]
    }
   ],
   "source": [
    "slice_1d = array[1:4]\n",
    "print(\"Sliced 1D Array:\", slice_1d)\n",
    "\n",
    "slice_2d = array_2d[:,1] # Take all rows and column 1\n",
    "print(\"2D Array:\\n\",array_2d)\n",
    "print(\"Sliced 2D Array:\\n\", slice_2d)"
   ]
  },
  {
   "cell_type": "code",
   "execution_count": 20,
   "metadata": {},
   "outputs": [
    {
     "name": "stdout",
     "output_type": "stream",
     "text": [
      "Filtered Array: [3 4]\n"
     ]
    }
   ],
   "source": [
    "array_mask = array > 2\n",
    "filtered_array = array[array_mask] # Use a boolean filter\n",
    "\n",
    "print(\"Filtered Array:\",filtered_array)"
   ]
  },
  {
   "cell_type": "code",
   "execution_count": 21,
   "metadata": {},
   "outputs": [
    {
     "name": "stdout",
     "output_type": "stream",
     "text": [
      "Fancy Indexed Array: [2 4]\n"
     ]
    }
   ],
   "source": [
    "indices = [1, 3]\n",
    "fancy_indexed_array = array[indices] # Just take 1 and 3 indexes\n",
    "print(\"Fancy Indexed Array:\", fancy_indexed_array)"
   ]
  },
  {
   "cell_type": "markdown",
   "metadata": {},
   "source": [
    "## Broadcasting"
   ]
  },
  {
   "cell_type": "code",
   "execution_count": 24,
   "metadata": {},
   "outputs": [
    {
     "name": "stdout",
     "output_type": "stream",
     "text": [
      "Brodcasted Array:\n",
      " [[11 12 13]\n",
      " [14 15 16]]\n"
     ]
    }
   ],
   "source": [
    "array = np.array([[1,2,3],[4,5,6]])\n",
    "scalar = 10\n",
    "brodcasted_array = array + scalar\n",
    "print(\"Broadcasted Array:\\n\",brodcasted_array)"
   ]
  },
  {
   "cell_type": "code",
   "execution_count": 33,
   "metadata": {},
   "outputs": [
    {
     "name": "stdout",
     "output_type": "stream",
     "text": [
      "Broadcasted Array with Another Array:\n",
      " [[11 22 33]\n",
      " [44 55 66]]\n"
     ]
    }
   ],
   "source": [
    "array2 = np.array([[10, 20, 30], [40, 50, 60]])\n",
    "broadcasted_array2 = array + array2\n",
    "print(\"Broadcasted Array with Another Array:\\n\", broadcasted_array2)"
   ]
  },
  {
   "cell_type": "code",
   "execution_count": 34,
   "metadata": {},
   "outputs": [
    {
     "name": "stdout",
     "output_type": "stream",
     "text": [
      "Broadcasted Array with Another Array:\n",
      " [[41 52 63]\n",
      " [44 55 66]]\n"
     ]
    }
   ],
   "source": [
    "array3 = np.array([[40, 50, 60]])\n",
    "broadcasted_array3 = array + array3\n",
    "print(\"Broadcasted Array with Another Array:\\n\", broadcasted_array3)"
   ]
  },
  {
   "cell_type": "markdown",
   "metadata": {},
   "source": [
    "## Mathematical and Statistical Functions"
   ]
  },
  {
   "cell_type": "code",
   "execution_count": 37,
   "metadata": {},
   "outputs": [
    {
     "name": "stdout",
     "output_type": "stream",
     "text": [
      "Logarithmic Values:\n",
      " [0.         0.69314718 1.09861229]\n",
      "Sine Values:\n",
      " [0.84147098 0.90929743 0.14112001]\n"
     ]
    }
   ],
   "source": [
    "array = np.array([1,2,3])\n",
    "log_array = np.log(array)\n",
    "sin_array = np.sin(array)\n",
    "\n",
    "print(\"Logarithmic Values:\\n\",log_array)\n",
    "print(\"Sine Values:\\n\", sin_array)"
   ]
  },
  {
   "cell_type": "code",
   "execution_count": 40,
   "metadata": {},
   "outputs": [
    {
     "name": "stdout",
     "output_type": "stream",
     "text": [
      "Mean: 0.016403563913661674\n",
      "Median: 0.013123890422853234\n",
      "Variance: 1.0027113297759271\n",
      "Standard Deviation: 1.0013547472179514\n"
     ]
    }
   ],
   "source": [
    "data = np.random.randn(1000)\n",
    "mean = np.mean(data)\n",
    "median = np.median(data)\n",
    "variance = np.var(data)\n",
    "std_dev = np.std(data)\n",
    "\n",
    "print(\"Mean:\", mean)\n",
    "print(\"Median:\", median)\n",
    "print(\"Variance:\", variance)\n",
    "print(\"Standard Deviation:\", std_dev)"
   ]
  },
  {
   "cell_type": "markdown",
   "metadata": {},
   "source": [
    "## Linear Algebra Operations"
   ]
  },
  {
   "cell_type": "code",
   "execution_count": 41,
   "metadata": {},
   "outputs": [
    {
     "name": "stdout",
     "output_type": "stream",
     "text": [
      "Matrix Product:\n",
      " [[19 22]\n",
      " [43 50]]\n"
     ]
    }
   ],
   "source": [
    "matrix_a = np.array([[1, 2], [3, 4]])\n",
    "matrix_b = np.array([[5, 6], [7, 8]])\n",
    "\n",
    "matrix_product = np.matmul(matrix_a,matrix_b)\n",
    "print(\"Matrix Product:\\n\",matrix_product)"
   ]
  },
  {
   "cell_type": "code",
   "execution_count": 42,
   "metadata": {},
   "outputs": [
    {
     "name": "stdout",
     "output_type": "stream",
     "text": [
      "U:\n",
      " [[-0.40455358 -0.9145143 ]\n",
      " [-0.9145143   0.40455358]]\n",
      "S:\n",
      " [5.4649857  0.36596619]\n",
      "VH:\n",
      " [[-0.57604844 -0.81741556]\n",
      " [ 0.81741556 -0.57604844]]\n"
     ]
    }
   ],
   "source": [
    "# Singular Value Decomposition (SVD)\n",
    "u,s,vh = np.linalg.svd(matrix_a)\n",
    "\n",
    "print(\"U:\\n\", u)\n",
    "print(\"S:\\n\", s)\n",
    "print(\"VH:\\n\", vh)"
   ]
  },
  {
   "cell_type": "code",
   "execution_count": 43,
   "metadata": {},
   "outputs": [
    {
     "name": "stdout",
     "output_type": "stream",
     "text": [
      "Eigenvalues: [-0.37228132  5.37228132]\n",
      "Eigenvectors:\n",
      " [[-0.82456484 -0.41597356]\n",
      " [ 0.56576746 -0.90937671]]\n"
     ]
    }
   ],
   "source": [
    "# Eigenvalues and eigenvectors\n",
    "eigenvalues, eigenvectors = np.linalg.eig(matrix_a)\n",
    "\n",
    "print(\"Eigenvalues:\", eigenvalues)\n",
    "print(\"Eigenvectors:\\n\", eigenvectors)"
   ]
  },
  {
   "cell_type": "markdown",
   "metadata": {},
   "source": [
    "## Random Number Generation"
   ]
  },
  {
   "cell_type": "code",
   "execution_count": 44,
   "metadata": {},
   "outputs": [
    {
     "name": "stdout",
     "output_type": "stream",
     "text": [
      "Random Sample: [3 4 1 4 5 5 2 1 3 4]\n"
     ]
    }
   ],
   "source": [
    "sample = np.random.choice([1,2,3,4,5],size = 10,replace= True)\n",
    "print(\"Random Sample:\",sample)"
   ]
  },
  {
   "cell_type": "code",
   "execution_count": 58,
   "metadata": {},
   "outputs": [
    {
     "name": "stdout",
     "output_type": "stream",
     "text": [
      "Normal Distribution Mean: 0.013541073631714043\n",
      "Uniform Distribution Mean: 4.992341748453319\n"
     ]
    }
   ],
   "source": [
    "normal_dist = np.random.normal(loc=0,scale=1,size=1000)\n",
    "uniform_dist = np.random.uniform(low=0,high=10,size=1000)\n",
    "\n",
    "print(\"Normal Distribution Mean:\", np.mean(normal_dist))\n",
    "print(\"Uniform Distribution Mean:\", np.mean(uniform_dist))"
   ]
  },
  {
   "cell_type": "markdown",
   "metadata": {},
   "source": [
    "## Memory Management and Performance"
   ]
  },
  {
   "cell_type": "code",
   "execution_count": 62,
   "metadata": {},
   "outputs": [
    {
     "name": "stdout",
     "output_type": "stream",
     "text": [
      "Memory usage of large array: 762.939453125 MB\n"
     ]
    }
   ],
   "source": [
    "array_large = np.random.rand(10000, 10000)\n",
    "print(\"Memory usage of large array:\", array_large.nbytes / (1024 ** 2), \"MB\")"
   ]
  },
  {
   "cell_type": "code",
   "execution_count": 63,
   "metadata": {},
   "outputs": [
    {
     "name": "stdout",
     "output_type": "stream",
     "text": [
      "Time taken for matrix multiplication: 0.0009996891021728516 seconds\n"
     ]
    }
   ],
   "source": [
    "# Performance comparison\n",
    "import time\n",
    "\n",
    "start_time = time.time()\n",
    "_ = np.dot(matrix_a, matrix_b)\n",
    "end_time = time.time()\n",
    "print(\"Time taken for matrix multiplication:\", end_time - start_time, \"seconds\")"
   ]
  },
  {
   "cell_type": "markdown",
   "metadata": {},
   "source": [
    "## File I/O and Data Persistence"
   ]
  },
  {
   "cell_type": "code",
   "execution_count": 64,
   "metadata": {},
   "outputs": [
    {
     "name": "stdout",
     "output_type": "stream",
     "text": [
      "Loaded Array:\n",
      " [1 2 3]\n"
     ]
    }
   ],
   "source": [
    "np.save(\"array_file.npy\",array)\n",
    "loaded_array = np.load(\"array_file.npy\")\n",
    "print(\"Loaded Array:\\n\", loaded_array)"
   ]
  },
  {
   "cell_type": "code",
   "execution_count": 65,
   "metadata": {},
   "outputs": [
    {
     "name": "stdout",
     "output_type": "stream",
     "text": [
      "Loaded Text Array:\n",
      " [[1. 2. 3.]\n",
      " [4. 5. 6.]]\n"
     ]
    }
   ],
   "source": [
    "np.savetxt(\"array_file.txt\",array_2d,fmt=\"%d\")\n",
    "text_loaded_array = np.loadtxt(\"array_file.txt\")\n",
    "print(\"Loaded Text Array:\\n\", text_loaded_array)"
   ]
  },
  {
   "cell_type": "markdown",
   "metadata": {},
   "source": [
    "## Advanced Applications and Use Cases"
   ]
  },
  {
   "cell_type": "code",
   "execution_count": null,
   "metadata": {},
   "outputs": [],
   "source": [
    "# Basic image manipulation (e.g., grayscale conversion)\n",
    "from skimage import color,io\n",
    "\n",
    "# Load an image\n",
    "image = io.imread('path_to_image.jpg')  # Load image from file\n",
    "gray_image = color.rgb2gray(image)  # Convert image to grayscale\n",
    "print(\"Grayscale Image Shape:\", gray_image.shape)  # Print shape of grayscale image"
   ]
  },
  {
   "cell_type": "code",
   "execution_count": null,
   "metadata": {},
   "outputs": [],
   "source": [
    "import pandas as pd\n",
    "\n",
    "# Load a dataset into a DataFrame\n",
    "df = pd.read_csv('path_to_dataset.csv')  # Read CSV file into DataFrame\n",
    "data_array = df.to_numpy()  # Convert DataFrame to NumPy array\n",
    "print(\"Data Array:\\n\", data_array)"
   ]
  },
  {
   "cell_type": "markdown",
   "metadata": {},
   "source": [
    "## Exercises\n",
    "Here are some exercises to practice what you've learned.\n",
    "\n",
    "Exercise 1: Array Operations\n",
    "Create a 3x3 array of random numbers and perform element-wise addition and multiplication.\n",
    "\n",
    "Exercise 2: Indexing and Slicing\n",
    "Create a 4x4 matrix and extract the submatrix formed by the last two rows and columns.\n",
    "\n",
    "Exercise 3: Broadcasting\n",
    "Broadcast a 1D array of shape (3,) to a 2D array of shape (3, 4).\n",
    "\n",
    "Exercise 4: Linear Algebra\n",
    "Compute the determinant and inverse of a 2x2 matrix."
   ]
  }
 ],
 "metadata": {
  "kernelspec": {
   "display_name": "Python 3",
   "language": "python",
   "name": "python3"
  },
  "language_info": {
   "codemirror_mode": {
    "name": "ipython",
    "version": 3
   },
   "file_extension": ".py",
   "mimetype": "text/x-python",
   "name": "python",
   "nbconvert_exporter": "python",
   "pygments_lexer": "ipython3",
   "version": "3.8.0"
  }
 },
 "nbformat": 4,
 "nbformat_minor": 2
}
